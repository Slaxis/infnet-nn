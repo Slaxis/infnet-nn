{
 "cells": [
  {
   "attachments": {},
   "cell_type": "markdown",
   "metadata": {},
   "source": [
    "### LITTLE EYES V5\n",
    "#### Meu Quinto Modelo de Visão Computacional\n",
    "\n",
    "Validação cruzada / controle de parada para selecionar o modelo mais genérico"
   ]
  },
  {
   "cell_type": "code",
   "execution_count": 1,
   "metadata": {},
   "outputs": [],
   "source": [
    "# NETWORK\n",
    "the_seed = 32\n",
    "digit_size = (28, 28, 1)\n",
    "convnn_activation = 'relu'\n",
    "fully_connected_activation = 'tanh'\n",
    "hyperparameter_max = 3\n",
    "phi_step, max_phi = 5, 15\n",
    "learning_rate = 0.01\n",
    "patience = 5\n",
    "max_epochs = 5*patience\n",
    "score_metric = 'accuracy'\n",
    "verbose = 0\n",
    "batch_size = None\n",
    "\n",
    "# VALIDATION\n",
    "n_folds = 3"
   ]
  },
  {
   "cell_type": "code",
   "execution_count": 2,
   "metadata": {},
   "outputs": [],
   "source": [
    "import tensorflow\n",
    "from tensorflow.keras import datasets, models, layers, optimizers, Input, Model\n",
    "from tensorflow.keras.callbacks import EarlyStopping\n",
    "from matplotlib import pyplot\n",
    "import numpy\n",
    "import pandas\n",
    "import random\n",
    "from sklearn.model_selection import StratifiedKFold\n",
    "from seaborn import boxplot\n",
    "from sklearn.metrics import accuracy_score"
   ]
  },
  {
   "cell_type": "code",
   "execution_count": 3,
   "metadata": {},
   "outputs": [],
   "source": [
    "random.seed(the_seed)\n",
    "numpy.random.seed(the_seed)\n",
    "tensorflow.random.set_seed(the_seed)"
   ]
  },
  {
   "cell_type": "code",
   "execution_count": 4,
   "metadata": {},
   "outputs": [],
   "source": [
    "def create_little_eyes(digit_size : tuple[int, int, int] = (28, 28, 1),\n",
    "                       convnn_activation : str = 'relu',\n",
    "                       fully_connected_activation : str = 'tanh',\n",
    "                       net_name : str = 'LittleEyes',\n",
    "                       hyperparameter : int = 1,\n",
    "                       phi : float = 0.0):\n",
    "    # CAMADA DE ENTRADA\n",
    "    inputs = Input(shape=digit_size)\n",
    "\n",
    "    # CAMADA DE AUMENTO DE DADOS\n",
    "    rotator = layers.RandomRotation(phi)\n",
    "    x = rotator(inputs)\n",
    "\n",
    "    # PRIMEIRA CAMADA CONVOLUCIONAL\n",
    "    conv_2d_layer_1 = layers.Conv2D(2*hyperparameter, (3, 3), activation=convnn_activation)\n",
    "    x = conv_2d_layer_1(x)\n",
    "\n",
    "    # PRIMEIRA CAMADA MAX POOLING\n",
    "    maxpool_1 = layers.MaxPooling2D((2, 2))\n",
    "    x = maxpool_1(x)\n",
    "\n",
    "    # SEGUNDA CAMADA CONVOLUCIONAL\n",
    "    conv_2d_layer_2 = layers.Conv2D(4*hyperparameter, (3, 3), activation=convnn_activation)\n",
    "    x = conv_2d_layer_2(x)\n",
    "\n",
    "    # SEGUNDA CAMADA MAX POOLING\n",
    "    maxpool_2 = layers.MaxPooling2D((2, 2))\n",
    "    x = maxpool_2(x)\n",
    "\n",
    "    # TERCEIRA CAMADA CONVOLUCIONAL\n",
    "    conv_2d_layer_3 = layers.Conv2D(4*hyperparameter, (3, 3), activation=convnn_activation)\n",
    "    x = conv_2d_layer_3(x)\n",
    "\n",
    "    # TERCEIRA CAMADA MAX POOLING\n",
    "    maxpool_3 = layers.MaxPooling2D((2, 2))\n",
    "    x = maxpool_3(x)\n",
    "\n",
    "    # FLATTEN\n",
    "    flatten_layer = layers.Flatten()\n",
    "    x = flatten_layer(x)\n",
    "\n",
    "    # FULLY CONNECTED HIDDEN LAYER\n",
    "    hidden_layer = layers.Dense(hyperparameter + 1, activation=fully_connected_activation)\n",
    "    x = hidden_layer(x)\n",
    "\n",
    "    # OUTPUT LAYER\n",
    "    output_layer = layers.Dense(10)\n",
    "    outputs = output_layer(x)\n",
    "\n",
    "    return Model(inputs=inputs, outputs=outputs, name=net_name)"
   ]
  },
  {
   "cell_type": "code",
   "execution_count": 5,
   "metadata": {},
   "outputs": [],
   "source": [
    "(train_images, train_labels), (validation_images, validation_labels) = datasets.mnist.load_data()\n",
    "\n",
    "# Normalize pixel values to be between 0 and 1\n",
    "train_images, validation_images = train_images / 255.0, validation_images / 255.0"
   ]
  },
  {
   "cell_type": "code",
   "execution_count": 6,
   "metadata": {},
   "outputs": [
    {
     "data": {
      "text/plain": [
       "((60000, 28, 28), (10000, 28, 28))"
      ]
     },
     "execution_count": 6,
     "metadata": {},
     "output_type": "execute_result"
    }
   ],
   "source": [
    "train_images.shape, validation_images.shape"
   ]
  },
  {
   "cell_type": "code",
   "execution_count": 7,
   "metadata": {},
   "outputs": [
    {
     "data": {
      "text/plain": [
       "(array([0, 1, 2, 3, 4, 5, 6, 7, 8, 9], dtype=uint8),\n",
       " array([5923, 6742, 5958, 6131, 5842, 5421, 5918, 6265, 5851, 5949],\n",
       "       dtype=int64))"
      ]
     },
     "execution_count": 7,
     "metadata": {},
     "output_type": "execute_result"
    }
   ],
   "source": [
    "numpy.unique(train_labels, return_counts=True)"
   ]
  },
  {
   "cell_type": "code",
   "execution_count": 8,
   "metadata": {},
   "outputs": [
    {
     "name": "stdout",
     "output_type": "stream",
     "text": [
      "Olhinho_1-0_0 training started...\n",
      "OLHINHO_1-0_0: 74% TRAINING ACCURACY / 70% VALIDATION ACCURACY\n",
      "Olhinho_1-0_1 training started...\n",
      "OLHINHO_1-0_1: 74% TRAINING ACCURACY / 75% VALIDATION ACCURACY\n",
      "Olhinho_1-0_2 training started...\n",
      "OLHINHO_1-0_2: 76% TRAINING ACCURACY / 74% VALIDATION ACCURACY\n",
      "Olhinho_1-5_0 training started...\n",
      "OLHINHO_1-5_0: 42% TRAINING ACCURACY / 37% VALIDATION ACCURACY\n",
      "Olhinho_1-5_1 training started...\n",
      "OLHINHO_1-5_1: 44% TRAINING ACCURACY / 41% VALIDATION ACCURACY\n",
      "Olhinho_1-5_2 training started...\n",
      "OLHINHO_1-5_2: 44% TRAINING ACCURACY / 42% VALIDATION ACCURACY\n",
      "Olhinho_1-10_0 training started...\n",
      "OLHINHO_1-10_0: 11% TRAINING ACCURACY / 10% VALIDATION ACCURACY\n",
      "Olhinho_1-10_1 training started...\n",
      "OLHINHO_1-10_1: 45% TRAINING ACCURACY / 44% VALIDATION ACCURACY\n",
      "Olhinho_1-10_2 training started...\n",
      "OLHINHO_1-10_2: 33% TRAINING ACCURACY / 32% VALIDATION ACCURACY\n",
      "Olhinho_1-15_0 training started...\n",
      "OLHINHO_1-15_0: 45% TRAINING ACCURACY / 41% VALIDATION ACCURACY\n",
      "Olhinho_1-15_1 training started...\n",
      "OLHINHO_1-15_1: 43% TRAINING ACCURACY / 43% VALIDATION ACCURACY\n",
      "Olhinho_1-15_2 training started...\n",
      "OLHINHO_1-15_2: 39% TRAINING ACCURACY / 38% VALIDATION ACCURACY\n",
      "Olhinho_2-0_0 training started...\n",
      "OLHINHO_2-0_0: 91% TRAINING ACCURACY / 91% VALIDATION ACCURACY\n",
      "Olhinho_2-0_1 training started...\n",
      "OLHINHO_2-0_1: 90% TRAINING ACCURACY / 88% VALIDATION ACCURACY\n",
      "Olhinho_2-0_2 training started...\n",
      "OLHINHO_2-0_2: 90% TRAINING ACCURACY / 87% VALIDATION ACCURACY\n",
      "Olhinho_2-5_0 training started...\n",
      "OLHINHO_2-5_0: 56% TRAINING ACCURACY / 51% VALIDATION ACCURACY\n",
      "Olhinho_2-5_1 training started...\n",
      "OLHINHO_2-5_1: 51% TRAINING ACCURACY / 50% VALIDATION ACCURACY\n",
      "Olhinho_2-5_2 training started...\n",
      "OLHINHO_2-5_2: 57% TRAINING ACCURACY / 46% VALIDATION ACCURACY\n",
      "Olhinho_2-10_0 training started...\n",
      "OLHINHO_2-10_0: 62% TRAINING ACCURACY / 60% VALIDATION ACCURACY\n",
      "Olhinho_2-10_1 training started...\n",
      "OLHINHO_2-10_1: 63% TRAINING ACCURACY / 62% VALIDATION ACCURACY\n",
      "Olhinho_2-10_2 training started...\n",
      "OLHINHO_2-10_2: 58% TRAINING ACCURACY / 57% VALIDATION ACCURACY\n",
      "Olhinho_2-15_0 training started...\n"
     ]
    }
   ],
   "source": [
    "result_list = []\n",
    "kfolder = StratifiedKFold(n_splits=n_folds, random_state=the_seed, shuffle=True)\n",
    "early_stopping = EarlyStopping(monitor=\"val_loss\", patience=patience, restore_best_weights=True, verbose=verbose)\n",
    "for hyperparameter in numpy.arange(1, hyperparameter_max+1):\n",
    "    for phi in numpy.arange(0, max_phi+phi_step, phi_step):\n",
    "        for i, (train_index, validation_index) in enumerate(kfolder.split(train_images, train_labels)):\n",
    "            X_train, Y_train = train_images[train_index], train_labels[train_index]\n",
    "            X_val, Y_val = train_images[validation_index], train_labels[validation_index]\n",
    "\n",
    "            # NET NAME > Hyperparameter + Fold Number\n",
    "            net_name = f\"0_0_{hyperparameter}-{phi}_{i}\"\n",
    "            print(f\"{net_name} training started...\")\n",
    "            little_eyes = create_little_eyes(net_name = net_name,\n",
    "                                             hyperparameter=hyperparameter,\n",
    "                                             phi=phi)\n",
    "            opt = optimizers.Adam(learning_rate=learning_rate)\n",
    "            little_eyes.compile(optimizer=opt,\n",
    "                        loss=tensorflow.keras.losses.SparseCategoricalCrossentropy(from_logits=True),\n",
    "                        metrics=[score_metric])\n",
    "\n",
    "            history = little_eyes.fit(X_train, Y_train, epochs=max_epochs, \n",
    "                                    validation_data=(X_val, Y_val),\n",
    "                                    verbose=verbose,\n",
    "                                    batch_size=batch_size,\n",
    "                                    callbacks=[early_stopping])\n",
    "\n",
    "            training_score = history.history[score_metric][-1]\n",
    "            validation_score = history.history[f\"val_{score_metric}\"][-1]\n",
    "            result_list.append((net_name, hyperparameter, phi, i, training_score, validation_score, little_eyes, history))\n",
    "            print(f\"{net_name.upper()}: {100*training_score:.0f}% TRAINING {score_metric.upper()} / {100*validation_score:.0f}% VALIDATION {score_metric.upper()}\")\n",
    "        "
   ]
  },
  {
   "cell_type": "code",
   "execution_count": null,
   "metadata": {},
   "outputs": [
    {
     "data": {
      "text/html": [
       "<div>\n",
       "<style scoped>\n",
       "    .dataframe tbody tr th:only-of-type {\n",
       "        vertical-align: middle;\n",
       "    }\n",
       "\n",
       "    .dataframe tbody tr th {\n",
       "        vertical-align: top;\n",
       "    }\n",
       "\n",
       "    .dataframe thead th {\n",
       "        text-align: right;\n",
       "    }\n",
       "</style>\n",
       "<table border=\"1\" class=\"dataframe\">\n",
       "  <thead>\n",
       "    <tr style=\"text-align: right;\">\n",
       "      <th></th>\n",
       "      <th>net_name</th>\n",
       "      <th>hyperparameter</th>\n",
       "      <th>kfold</th>\n",
       "      <th>accuracy</th>\n",
       "      <th>val_accuracy</th>\n",
       "      <th>little_eyes</th>\n",
       "      <th>history</th>\n",
       "    </tr>\n",
       "  </thead>\n",
       "  <tbody>\n",
       "    <tr>\n",
       "      <th>16</th>\n",
       "      <td>LittleEyes_4_1</td>\n",
       "      <td>4</td>\n",
       "      <td>1</td>\n",
       "      <td>0.951958</td>\n",
       "      <td>0.954083</td>\n",
       "      <td>&lt;keras.engine.functional.Functional object at ...</td>\n",
       "      <td>&lt;keras.callbacks.History object at 0x00000156A...</td>\n",
       "    </tr>\n",
       "    <tr>\n",
       "      <th>12</th>\n",
       "      <td>LittleEyes_3_2</td>\n",
       "      <td>3</td>\n",
       "      <td>2</td>\n",
       "      <td>0.949146</td>\n",
       "      <td>0.953833</td>\n",
       "      <td>&lt;keras.engine.functional.Functional object at ...</td>\n",
       "      <td>&lt;keras.callbacks.History object at 0x00000156A...</td>\n",
       "    </tr>\n",
       "    <tr>\n",
       "      <th>14</th>\n",
       "      <td>LittleEyes_3_4</td>\n",
       "      <td>3</td>\n",
       "      <td>4</td>\n",
       "      <td>0.953167</td>\n",
       "      <td>0.953250</td>\n",
       "      <td>&lt;keras.engine.functional.Functional object at ...</td>\n",
       "      <td>&lt;keras.callbacks.History object at 0x00000156A...</td>\n",
       "    </tr>\n",
       "    <tr>\n",
       "      <th>24</th>\n",
       "      <td>LittleEyes_5_4</td>\n",
       "      <td>5</td>\n",
       "      <td>4</td>\n",
       "      <td>0.948292</td>\n",
       "      <td>0.951250</td>\n",
       "      <td>&lt;keras.engine.functional.Functional object at ...</td>\n",
       "      <td>&lt;keras.callbacks.History object at 0x000001568...</td>\n",
       "    </tr>\n",
       "    <tr>\n",
       "      <th>15</th>\n",
       "      <td>LittleEyes_4_0</td>\n",
       "      <td>4</td>\n",
       "      <td>0</td>\n",
       "      <td>0.940938</td>\n",
       "      <td>0.941167</td>\n",
       "      <td>&lt;keras.engine.functional.Functional object at ...</td>\n",
       "      <td>&lt;keras.callbacks.History object at 0x00000156A...</td>\n",
       "    </tr>\n",
       "    <tr>\n",
       "      <th>17</th>\n",
       "      <td>LittleEyes_4_2</td>\n",
       "      <td>4</td>\n",
       "      <td>2</td>\n",
       "      <td>0.946229</td>\n",
       "      <td>0.941083</td>\n",
       "      <td>&lt;keras.engine.functional.Functional object at ...</td>\n",
       "      <td>&lt;keras.callbacks.History object at 0x00000156A...</td>\n",
       "    </tr>\n",
       "    <tr>\n",
       "      <th>21</th>\n",
       "      <td>LittleEyes_5_1</td>\n",
       "      <td>5</td>\n",
       "      <td>1</td>\n",
       "      <td>0.943083</td>\n",
       "      <td>0.935500</td>\n",
       "      <td>&lt;keras.engine.functional.Functional object at ...</td>\n",
       "      <td>&lt;keras.callbacks.History object at 0x000001568...</td>\n",
       "    </tr>\n",
       "    <tr>\n",
       "      <th>20</th>\n",
       "      <td>LittleEyes_5_0</td>\n",
       "      <td>5</td>\n",
       "      <td>0</td>\n",
       "      <td>0.928937</td>\n",
       "      <td>0.934917</td>\n",
       "      <td>&lt;keras.engine.functional.Functional object at ...</td>\n",
       "      <td>&lt;keras.callbacks.History object at 0x000001568...</td>\n",
       "    </tr>\n",
       "    <tr>\n",
       "      <th>13</th>\n",
       "      <td>LittleEyes_3_3</td>\n",
       "      <td>3</td>\n",
       "      <td>3</td>\n",
       "      <td>0.939896</td>\n",
       "      <td>0.934667</td>\n",
       "      <td>&lt;keras.engine.functional.Functional object at ...</td>\n",
       "      <td>&lt;keras.callbacks.History object at 0x00000156A...</td>\n",
       "    </tr>\n",
       "    <tr>\n",
       "      <th>11</th>\n",
       "      <td>LittleEyes_3_1</td>\n",
       "      <td>3</td>\n",
       "      <td>1</td>\n",
       "      <td>0.937792</td>\n",
       "      <td>0.933583</td>\n",
       "      <td>&lt;keras.engine.functional.Functional object at ...</td>\n",
       "      <td>&lt;keras.callbacks.History object at 0x00000156A...</td>\n",
       "    </tr>\n",
       "    <tr>\n",
       "      <th>19</th>\n",
       "      <td>LittleEyes_4_4</td>\n",
       "      <td>4</td>\n",
       "      <td>4</td>\n",
       "      <td>0.929750</td>\n",
       "      <td>0.931500</td>\n",
       "      <td>&lt;keras.engine.functional.Functional object at ...</td>\n",
       "      <td>&lt;keras.callbacks.History object at 0x00000156A...</td>\n",
       "    </tr>\n",
       "    <tr>\n",
       "      <th>10</th>\n",
       "      <td>LittleEyes_3_0</td>\n",
       "      <td>3</td>\n",
       "      <td>0</td>\n",
       "      <td>0.942500</td>\n",
       "      <td>0.926917</td>\n",
       "      <td>&lt;keras.engine.functional.Functional object at ...</td>\n",
       "      <td>&lt;keras.callbacks.History object at 0x000001568...</td>\n",
       "    </tr>\n",
       "    <tr>\n",
       "      <th>18</th>\n",
       "      <td>LittleEyes_4_3</td>\n",
       "      <td>4</td>\n",
       "      <td>3</td>\n",
       "      <td>0.925167</td>\n",
       "      <td>0.922167</td>\n",
       "      <td>&lt;keras.engine.functional.Functional object at ...</td>\n",
       "      <td>&lt;keras.callbacks.History object at 0x00000156B...</td>\n",
       "    </tr>\n",
       "    <tr>\n",
       "      <th>22</th>\n",
       "      <td>LittleEyes_5_2</td>\n",
       "      <td>5</td>\n",
       "      <td>2</td>\n",
       "      <td>0.932792</td>\n",
       "      <td>0.918500</td>\n",
       "      <td>&lt;keras.engine.functional.Functional object at ...</td>\n",
       "      <td>&lt;keras.callbacks.History object at 0x000001568...</td>\n",
       "    </tr>\n",
       "    <tr>\n",
       "      <th>5</th>\n",
       "      <td>LittleEyes_2_0</td>\n",
       "      <td>2</td>\n",
       "      <td>0</td>\n",
       "      <td>0.913437</td>\n",
       "      <td>0.915917</td>\n",
       "      <td>&lt;keras.engine.functional.Functional object at ...</td>\n",
       "      <td>&lt;keras.callbacks.History object at 0x000001568...</td>\n",
       "    </tr>\n",
       "    <tr>\n",
       "      <th>23</th>\n",
       "      <td>LittleEyes_5_3</td>\n",
       "      <td>5</td>\n",
       "      <td>3</td>\n",
       "      <td>0.931500</td>\n",
       "      <td>0.905167</td>\n",
       "      <td>&lt;keras.engine.functional.Functional object at ...</td>\n",
       "      <td>&lt;keras.callbacks.History object at 0x000001568...</td>\n",
       "    </tr>\n",
       "    <tr>\n",
       "      <th>8</th>\n",
       "      <td>LittleEyes_2_3</td>\n",
       "      <td>2</td>\n",
       "      <td>3</td>\n",
       "      <td>0.910458</td>\n",
       "      <td>0.904667</td>\n",
       "      <td>&lt;keras.engine.functional.Functional object at ...</td>\n",
       "      <td>&lt;keras.callbacks.History object at 0x00000156C...</td>\n",
       "    </tr>\n",
       "    <tr>\n",
       "      <th>9</th>\n",
       "      <td>LittleEyes_2_4</td>\n",
       "      <td>2</td>\n",
       "      <td>4</td>\n",
       "      <td>0.908125</td>\n",
       "      <td>0.898750</td>\n",
       "      <td>&lt;keras.engine.functional.Functional object at ...</td>\n",
       "      <td>&lt;keras.callbacks.History object at 0x00000156C...</td>\n",
       "    </tr>\n",
       "    <tr>\n",
       "      <th>6</th>\n",
       "      <td>LittleEyes_2_1</td>\n",
       "      <td>2</td>\n",
       "      <td>1</td>\n",
       "      <td>0.892812</td>\n",
       "      <td>0.875500</td>\n",
       "      <td>&lt;keras.engine.functional.Functional object at ...</td>\n",
       "      <td>&lt;keras.callbacks.History object at 0x000001568...</td>\n",
       "    </tr>\n",
       "    <tr>\n",
       "      <th>7</th>\n",
       "      <td>LittleEyes_2_2</td>\n",
       "      <td>2</td>\n",
       "      <td>2</td>\n",
       "      <td>0.872417</td>\n",
       "      <td>0.861833</td>\n",
       "      <td>&lt;keras.engine.functional.Functional object at ...</td>\n",
       "      <td>&lt;keras.callbacks.History object at 0x000001569...</td>\n",
       "    </tr>\n",
       "    <tr>\n",
       "      <th>4</th>\n",
       "      <td>LittleEyes_1_4</td>\n",
       "      <td>1</td>\n",
       "      <td>4</td>\n",
       "      <td>0.787458</td>\n",
       "      <td>0.781000</td>\n",
       "      <td>&lt;keras.engine.functional.Functional object at ...</td>\n",
       "      <td>&lt;keras.callbacks.History object at 0x000001568...</td>\n",
       "    </tr>\n",
       "    <tr>\n",
       "      <th>3</th>\n",
       "      <td>LittleEyes_1_3</td>\n",
       "      <td>1</td>\n",
       "      <td>3</td>\n",
       "      <td>0.762979</td>\n",
       "      <td>0.752833</td>\n",
       "      <td>&lt;keras.engine.functional.Functional object at ...</td>\n",
       "      <td>&lt;keras.callbacks.History object at 0x000001568...</td>\n",
       "    </tr>\n",
       "    <tr>\n",
       "      <th>1</th>\n",
       "      <td>LittleEyes_1_1</td>\n",
       "      <td>1</td>\n",
       "      <td>1</td>\n",
       "      <td>0.698979</td>\n",
       "      <td>0.704667</td>\n",
       "      <td>&lt;keras.engine.functional.Functional object at ...</td>\n",
       "      <td>&lt;keras.callbacks.History object at 0x000001568...</td>\n",
       "    </tr>\n",
       "    <tr>\n",
       "      <th>2</th>\n",
       "      <td>LittleEyes_1_2</td>\n",
       "      <td>1</td>\n",
       "      <td>2</td>\n",
       "      <td>0.725333</td>\n",
       "      <td>0.697167</td>\n",
       "      <td>&lt;keras.engine.functional.Functional object at ...</td>\n",
       "      <td>&lt;keras.callbacks.History object at 0x000001568...</td>\n",
       "    </tr>\n",
       "    <tr>\n",
       "      <th>0</th>\n",
       "      <td>LittleEyes_1_0</td>\n",
       "      <td>1</td>\n",
       "      <td>0</td>\n",
       "      <td>0.691750</td>\n",
       "      <td>0.669000</td>\n",
       "      <td>&lt;keras.engine.functional.Functional object at ...</td>\n",
       "      <td>&lt;keras.callbacks.History object at 0x000001568...</td>\n",
       "    </tr>\n",
       "  </tbody>\n",
       "</table>\n",
       "</div>"
      ],
      "text/plain": [
       "          net_name  hyperparameter  kfold  accuracy  val_accuracy   \n",
       "16  LittleEyes_4_1               4      1  0.951958      0.954083  \\\n",
       "12  LittleEyes_3_2               3      2  0.949146      0.953833   \n",
       "14  LittleEyes_3_4               3      4  0.953167      0.953250   \n",
       "24  LittleEyes_5_4               5      4  0.948292      0.951250   \n",
       "15  LittleEyes_4_0               4      0  0.940938      0.941167   \n",
       "17  LittleEyes_4_2               4      2  0.946229      0.941083   \n",
       "21  LittleEyes_5_1               5      1  0.943083      0.935500   \n",
       "20  LittleEyes_5_0               5      0  0.928937      0.934917   \n",
       "13  LittleEyes_3_3               3      3  0.939896      0.934667   \n",
       "11  LittleEyes_3_1               3      1  0.937792      0.933583   \n",
       "19  LittleEyes_4_4               4      4  0.929750      0.931500   \n",
       "10  LittleEyes_3_0               3      0  0.942500      0.926917   \n",
       "18  LittleEyes_4_3               4      3  0.925167      0.922167   \n",
       "22  LittleEyes_5_2               5      2  0.932792      0.918500   \n",
       "5   LittleEyes_2_0               2      0  0.913437      0.915917   \n",
       "23  LittleEyes_5_3               5      3  0.931500      0.905167   \n",
       "8   LittleEyes_2_3               2      3  0.910458      0.904667   \n",
       "9   LittleEyes_2_4               2      4  0.908125      0.898750   \n",
       "6   LittleEyes_2_1               2      1  0.892812      0.875500   \n",
       "7   LittleEyes_2_2               2      2  0.872417      0.861833   \n",
       "4   LittleEyes_1_4               1      4  0.787458      0.781000   \n",
       "3   LittleEyes_1_3               1      3  0.762979      0.752833   \n",
       "1   LittleEyes_1_1               1      1  0.698979      0.704667   \n",
       "2   LittleEyes_1_2               1      2  0.725333      0.697167   \n",
       "0   LittleEyes_1_0               1      0  0.691750      0.669000   \n",
       "\n",
       "                                          little_eyes   \n",
       "16  <keras.engine.functional.Functional object at ...  \\\n",
       "12  <keras.engine.functional.Functional object at ...   \n",
       "14  <keras.engine.functional.Functional object at ...   \n",
       "24  <keras.engine.functional.Functional object at ...   \n",
       "15  <keras.engine.functional.Functional object at ...   \n",
       "17  <keras.engine.functional.Functional object at ...   \n",
       "21  <keras.engine.functional.Functional object at ...   \n",
       "20  <keras.engine.functional.Functional object at ...   \n",
       "13  <keras.engine.functional.Functional object at ...   \n",
       "11  <keras.engine.functional.Functional object at ...   \n",
       "19  <keras.engine.functional.Functional object at ...   \n",
       "10  <keras.engine.functional.Functional object at ...   \n",
       "18  <keras.engine.functional.Functional object at ...   \n",
       "22  <keras.engine.functional.Functional object at ...   \n",
       "5   <keras.engine.functional.Functional object at ...   \n",
       "23  <keras.engine.functional.Functional object at ...   \n",
       "8   <keras.engine.functional.Functional object at ...   \n",
       "9   <keras.engine.functional.Functional object at ...   \n",
       "6   <keras.engine.functional.Functional object at ...   \n",
       "7   <keras.engine.functional.Functional object at ...   \n",
       "4   <keras.engine.functional.Functional object at ...   \n",
       "3   <keras.engine.functional.Functional object at ...   \n",
       "1   <keras.engine.functional.Functional object at ...   \n",
       "2   <keras.engine.functional.Functional object at ...   \n",
       "0   <keras.engine.functional.Functional object at ...   \n",
       "\n",
       "                                              history  \n",
       "16  <keras.callbacks.History object at 0x00000156A...  \n",
       "12  <keras.callbacks.History object at 0x00000156A...  \n",
       "14  <keras.callbacks.History object at 0x00000156A...  \n",
       "24  <keras.callbacks.History object at 0x000001568...  \n",
       "15  <keras.callbacks.History object at 0x00000156A...  \n",
       "17  <keras.callbacks.History object at 0x00000156A...  \n",
       "21  <keras.callbacks.History object at 0x000001568...  \n",
       "20  <keras.callbacks.History object at 0x000001568...  \n",
       "13  <keras.callbacks.History object at 0x00000156A...  \n",
       "11  <keras.callbacks.History object at 0x00000156A...  \n",
       "19  <keras.callbacks.History object at 0x00000156A...  \n",
       "10  <keras.callbacks.History object at 0x000001568...  \n",
       "18  <keras.callbacks.History object at 0x00000156B...  \n",
       "22  <keras.callbacks.History object at 0x000001568...  \n",
       "5   <keras.callbacks.History object at 0x000001568...  \n",
       "23  <keras.callbacks.History object at 0x000001568...  \n",
       "8   <keras.callbacks.History object at 0x00000156C...  \n",
       "9   <keras.callbacks.History object at 0x00000156C...  \n",
       "6   <keras.callbacks.History object at 0x000001568...  \n",
       "7   <keras.callbacks.History object at 0x000001569...  \n",
       "4   <keras.callbacks.History object at 0x000001568...  \n",
       "3   <keras.callbacks.History object at 0x000001568...  \n",
       "1   <keras.callbacks.History object at 0x000001568...  \n",
       "2   <keras.callbacks.History object at 0x000001568...  \n",
       "0   <keras.callbacks.History object at 0x000001568...  "
      ]
     },
     "execution_count": 17,
     "metadata": {},
     "output_type": "execute_result"
    }
   ],
   "source": [
    "results = pandas.DataFrame.from_records(result_list)\n",
    "results.columns = [\"net_name\", \"hyperparameter\", \"phi\", \"kfold\", score_metric, f\"val_{score_metric}\", \"little_eyes\", 'history']\n",
    "results.sort_values(\"val_accuracy\", ascending=False)"
   ]
  },
  {
   "cell_type": "code",
   "execution_count": null,
   "metadata": {},
   "outputs": [
    {
     "data": {
      "image/png": "[encoded data removed]",
      "text/plain": [
       "<Figure size 800x450 with 1 Axes>"
      ]
     },
     "metadata": {},
     "output_type": "display_data"
    }
   ],
   "source": [
    "fig = pyplot.figure(figsize=(8, 4.5))\n",
    "ax = fig.add_subplot(111)\n",
    "boxplot(results, x=\"hyperparameter\", y=\"accuracy\", ax=ax)\n",
    "ax.grid()"
   ]
  },
  {
   "cell_type": "code",
   "execution_count": null,
   "metadata": {},
   "outputs": [
    {
     "data": {
      "text/plain": [
       "<keras.engine.functional.Functional at 0x156ad41dcf0>"
      ]
     },
     "execution_count": 19,
     "metadata": {},
     "output_type": "execute_result"
    }
   ],
   "source": [
    "little_eyes = results.sort_values('val_accuracy', ascending=False).head(1)['little_eyes'].values[0]\n",
    "little_eyes_history = results.sort_values('val_accuracy', ascending=False).head(1)['history'].values[0]\n",
    "little_eyes"
   ]
  },
  {
   "cell_type": "code",
   "execution_count": null,
   "metadata": {},
   "outputs": [
    {
     "data": {
      "text/plain": [
       "<matplotlib.legend.Legend at 0x156b0a3f2b0>"
      ]
     },
     "execution_count": 25,
     "metadata": {},
     "output_type": "execute_result"
    },
    {
     "data": {
      "image/png": "[encoded data removed]",
      "text/plain": [
       "<Figure size 640x480 with 1 Axes>"
      ]
     },
     "metadata": {},
     "output_type": "display_data"
    }
   ],
   "source": [
    "pyplot.plot(little_eyes_history.history['loss'], label='loss')\n",
    "pyplot.plot(little_eyes_history.history['val_loss'], label = 'val_loss')\n",
    "pyplot.xlabel('Epoch')\n",
    "pyplot.ylabel('Loss')\n",
    "# pyplot.ylim([0.5, 1])\n",
    "pyplot.legend(loc='lower right')"
   ]
  },
  {
   "cell_type": "code",
   "execution_count": null,
   "metadata": {},
   "outputs": [
    {
     "name": "stdout",
     "output_type": "stream",
     "text": [
      "313/313 [==============================] - 2s 4ms/step\n"
     ]
    }
   ],
   "source": [
    "Y_test = little_eyes.predict(validation_images)"
   ]
  },
  {
   "cell_type": "code",
   "execution_count": null,
   "metadata": {},
   "outputs": [
    {
     "data": {
      "text/plain": [
       "array([7, 2, 1, ..., 4, 5, 6], dtype=int64)"
      ]
     },
     "execution_count": 21,
     "metadata": {},
     "output_type": "execute_result"
    }
   ],
   "source": [
    "Y_predicted = numpy.argmax(Y_test, axis=1)\n",
    "Y_predicted"
   ]
  },
  {
   "cell_type": "code",
   "execution_count": null,
   "metadata": {},
   "outputs": [
    {
     "name": "stdout",
     "output_type": "stream",
     "text": [
      "TRUE NUMBER 1 >> PREDICTED NUMBER 1\n"
     ]
    },
    {
     "data": {
      "image/png": "[encoded data removed]",
      "text/plain": [
       "<Figure size 800x800 with 1 Axes>"
      ]
     },
     "metadata": {},
     "output_type": "display_data"
    }
   ],
   "source": [
    "# TABAJARA VALIDATOR\n",
    "image_id = 14\n",
    "print(f\"TRUE NUMBER {validation_labels[image_id]} >> PREDICTED NUMBER {Y_predicted[image_id]}\")\n",
    "# Y_test[image_id, :]\n",
    "fig = pyplot.figure(figsize=(8, 8))\n",
    "ax = fig.add_subplot(111)\n",
    "_ = pyplot.imshow(validation_images[image_id], cmap=\"Greens_r\")"
   ]
  },
  {
   "cell_type": "code",
   "execution_count": null,
   "metadata": {},
   "outputs": [
    {
     "data": {
      "text/plain": [
       "0.9583"
      ]
     },
     "execution_count": 26,
     "metadata": {},
     "output_type": "execute_result"
    }
   ],
   "source": [
    "accuracy_score(validation_labels, Y_predicted)"
   ]
  },
  {
   "cell_type": "code",
   "execution_count": null,
   "metadata": {},
   "outputs": [],
   "source": []
  },
  {
   "cell_type": "code",
   "execution_count": null,
   "metadata": {},
   "outputs": [],
   "source": []
  },
  {
   "cell_type": "code",
   "execution_count": null,
   "metadata": {},
   "outputs": [
    {
     "data": {
      "text/plain": [
       "0.9583"
      ]
     },
     "execution_count": 23,
     "metadata": {},
     "output_type": "execute_result"
    }
   ],
   "source": []
  },
  {
   "cell_type": "code",
   "execution_count": null,
   "metadata": {},
   "outputs": [],
   "source": []
  }
 ],
 "metadata": {
  "kernelspec": {
   "display_name": "cv",
   "language": "python",
   "name": "python3"
  },
  "language_info": {
   "codemirror_mode": {
    "name": "ipython",
    "version": 3
   },
   "file_extension": ".py",
   "mimetype": "text/x-python",
   "name": "python",
   "nbconvert_exporter": "python",
   "pygments_lexer": "ipython3",
   "version": "3.10.11"
  },
  "orig_nbformat": 4
 },
 "nbformat": 4,
 "nbformat_minor": 2
}
