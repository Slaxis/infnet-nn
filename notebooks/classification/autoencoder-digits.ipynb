{
 "cells": [
  {
   "cell_type": "code",
   "execution_count": 26,
   "metadata": {},
   "outputs": [],
   "source": [
    "from tensorflow import keras\n",
    "from tensorflow.keras import layers\n",
    "\n",
    "# This is the size of our encoded representations\n",
    "encoding_dim = 1  # 32 floats -> compression of factor 24.5, assuming the input is 784 floats\n",
    "\n",
    "# This is our input image\n",
    "input_img = keras.Input(shape=(784,))\n",
    "# \"encoded\" is the encoded representation of the input\n",
    "encoded = layers.Dense(encoding_dim, activation='relu')(input_img)\n",
    "# \"decoded\" is the lossy reconstruction of the input\n",
    "decoded = layers.Dense(784, activation='sigmoid')(encoded)\n",
    "\n",
    "# This model maps an input to its reconstruction\n",
    "autoencoder = keras.Model(input_img, decoded)"
   ]
  },
  {
   "cell_type": "code",
   "execution_count": 27,
   "metadata": {},
   "outputs": [],
   "source": [
    "# This model maps an input to its encoded representation\n",
    "encoder = keras.Model(input_img, encoded)"
   ]
  },
  {
   "cell_type": "code",
   "execution_count": 28,
   "metadata": {},
   "outputs": [],
   "source": [
    "# This is our encoded (32-dimensional) input\n",
    "encoded_input = keras.Input(shape=(encoding_dim,))\n",
    "# Retrieve the last layer of the autoencoder model\n",
    "decoder_layer = autoencoder.layers[-1]\n",
    "# Create the decoder model\n",
    "decoder = keras.Model(encoded_input, decoder_layer(encoded_input))"
   ]
  },
  {
   "cell_type": "code",
   "execution_count": 29,
   "metadata": {},
   "outputs": [],
   "source": [
    "autoencoder.compile(optimizer='adam', loss='binary_crossentropy')"
   ]
  },
  {
   "cell_type": "code",
   "execution_count": 30,
   "metadata": {},
   "outputs": [],
   "source": [
    "from keras.datasets import mnist\n",
    "import numpy\n",
    "(x_train, _), (x_test, _) = mnist.load_data()"
   ]
  },
  {
   "cell_type": "code",
   "execution_count": 31,
   "metadata": {},
   "outputs": [
    {
     "name": "stdout",
     "output_type": "stream",
     "text": [
      "(60000, 784)\n",
      "(10000, 784)\n"
     ]
    }
   ],
   "source": [
    "x_train = x_train.astype('float32') / 255.\n",
    "x_test = x_test.astype('float32') / 255.\n",
    "x_train = x_train.reshape((len(x_train), numpy.prod(x_train.shape[1:])))\n",
    "x_test = x_test.reshape((len(x_test), numpy.prod(x_test.shape[1:])))\n",
    "print(x_train.shape)\n",
    "print(x_test.shape)"
   ]
  },
  {
   "cell_type": "code",
   "execution_count": 32,
   "metadata": {},
   "outputs": [
    {
     "name": "stdout",
     "output_type": "stream",
     "text": [
      "Epoch 1/50\n",
      "235/235 [==============================] - 2s 5ms/step - loss: 0.4281 - val_loss: 0.2894\n",
      "Epoch 2/50\n",
      "235/235 [==============================] - 1s 5ms/step - loss: 0.2810 - val_loss: 0.2739\n",
      "Epoch 3/50\n",
      "235/235 [==============================] - 1s 4ms/step - loss: 0.2715 - val_loss: 0.2682\n",
      "Epoch 4/50\n",
      "235/235 [==============================] - 1s 4ms/step - loss: 0.2672 - val_loss: 0.2652\n",
      "Epoch 5/50\n",
      "235/235 [==============================] - 1s 4ms/step - loss: 0.2645 - val_loss: 0.2631\n",
      "Epoch 6/50\n",
      "235/235 [==============================] - 1s 4ms/step - loss: 0.2627 - val_loss: 0.2616\n",
      "Epoch 7/50\n",
      "235/235 [==============================] - 1s 4ms/step - loss: 0.2613 - val_loss: 0.2606\n",
      "Epoch 8/50\n",
      "235/235 [==============================] - 1s 4ms/step - loss: 0.2603 - val_loss: 0.2596\n",
      "Epoch 9/50\n",
      "235/235 [==============================] - 1s 4ms/step - loss: 0.2594 - val_loss: 0.2588\n",
      "Epoch 10/50\n",
      "235/235 [==============================] - 1s 4ms/step - loss: 0.2587 - val_loss: 0.2583\n",
      "Epoch 11/50\n",
      "235/235 [==============================] - 1s 4ms/step - loss: 0.2581 - val_loss: 0.2577\n",
      "Epoch 12/50\n",
      "235/235 [==============================] - 1s 4ms/step - loss: 0.2576 - val_loss: 0.2572\n",
      "Epoch 13/50\n",
      "235/235 [==============================] - 1s 5ms/step - loss: 0.2572 - val_loss: 0.2567\n",
      "Epoch 14/50\n",
      "235/235 [==============================] - 1s 4ms/step - loss: 0.2568 - val_loss: 0.2564\n",
      "Epoch 15/50\n",
      "235/235 [==============================] - 1s 4ms/step - loss: 0.2564 - val_loss: 0.2560\n",
      "Epoch 16/50\n",
      "235/235 [==============================] - 1s 4ms/step - loss: 0.2560 - val_loss: 0.2558\n",
      "Epoch 17/50\n",
      "235/235 [==============================] - 1s 4ms/step - loss: 0.2557 - val_loss: 0.2554\n",
      "Epoch 18/50\n",
      "235/235 [==============================] - 1s 5ms/step - loss: 0.2554 - val_loss: 0.2551\n",
      "Epoch 19/50\n",
      "235/235 [==============================] - 1s 4ms/step - loss: 0.2551 - val_loss: 0.2548\n",
      "Epoch 20/50\n",
      "235/235 [==============================] - 1s 4ms/step - loss: 0.2548 - val_loss: 0.2545\n",
      "Epoch 21/50\n",
      "235/235 [==============================] - 1s 4ms/step - loss: 0.2545 - val_loss: 0.2543\n",
      "Epoch 22/50\n",
      "235/235 [==============================] - 1s 4ms/step - loss: 0.2541 - val_loss: 0.2538\n",
      "Epoch 23/50\n",
      "235/235 [==============================] - 1s 5ms/step - loss: 0.2538 - val_loss: 0.2536\n",
      "Epoch 24/50\n",
      "235/235 [==============================] - 1s 4ms/step - loss: 0.2535 - val_loss: 0.2532\n",
      "Epoch 25/50\n",
      "235/235 [==============================] - 1s 4ms/step - loss: 0.2532 - val_loss: 0.2529\n",
      "Epoch 26/50\n",
      "235/235 [==============================] - 1s 4ms/step - loss: 0.2528 - val_loss: 0.2526\n",
      "Epoch 27/50\n",
      "235/235 [==============================] - 1s 4ms/step - loss: 0.2525 - val_loss: 0.2523\n",
      "Epoch 28/50\n",
      "235/235 [==============================] - 1s 4ms/step - loss: 0.2522 - val_loss: 0.2519\n",
      "Epoch 29/50\n",
      "235/235 [==============================] - 1s 4ms/step - loss: 0.2518 - val_loss: 0.2516\n",
      "Epoch 30/50\n",
      "235/235 [==============================] - 1s 4ms/step - loss: 0.2514 - val_loss: 0.2511\n",
      "Epoch 31/50\n",
      "235/235 [==============================] - 1s 4ms/step - loss: 0.2511 - val_loss: 0.2508\n",
      "Epoch 32/50\n",
      "235/235 [==============================] - 1s 4ms/step - loss: 0.2507 - val_loss: 0.2503\n",
      "Epoch 33/50\n",
      "235/235 [==============================] - 1s 4ms/step - loss: 0.2503 - val_loss: 0.2499\n",
      "Epoch 34/50\n",
      "235/235 [==============================] - 1s 5ms/step - loss: 0.2498 - val_loss: 0.2494\n",
      "Epoch 35/50\n",
      "235/235 [==============================] - 1s 5ms/step - loss: 0.2494 - val_loss: 0.2489\n",
      "Epoch 36/50\n",
      "235/235 [==============================] - 1s 5ms/step - loss: 0.2489 - val_loss: 0.2483\n",
      "Epoch 37/50\n",
      "235/235 [==============================] - 1s 5ms/step - loss: 0.2484 - val_loss: 0.2478\n",
      "Epoch 38/50\n",
      "235/235 [==============================] - 1s 4ms/step - loss: 0.2479 - val_loss: 0.2472\n",
      "Epoch 39/50\n",
      "235/235 [==============================] - 1s 5ms/step - loss: 0.2473 - val_loss: 0.2467\n",
      "Epoch 40/50\n",
      "235/235 [==============================] - 1s 4ms/step - loss: 0.2468 - val_loss: 0.2461\n",
      "Epoch 41/50\n",
      "235/235 [==============================] - 1s 4ms/step - loss: 0.2462 - val_loss: 0.2455\n",
      "Epoch 42/50\n",
      "235/235 [==============================] - 1s 5ms/step - loss: 0.2457 - val_loss: 0.2450\n",
      "Epoch 43/50\n",
      "235/235 [==============================] - 1s 5ms/step - loss: 0.2452 - val_loss: 0.2445\n",
      "Epoch 44/50\n",
      "235/235 [==============================] - 1s 5ms/step - loss: 0.2448 - val_loss: 0.2441\n",
      "Epoch 45/50\n",
      "235/235 [==============================] - 1s 4ms/step - loss: 0.2444 - val_loss: 0.2437\n",
      "Epoch 46/50\n",
      "235/235 [==============================] - 1s 4ms/step - loss: 0.2441 - val_loss: 0.2433\n",
      "Epoch 47/50\n",
      "235/235 [==============================] - 1s 4ms/step - loss: 0.2438 - val_loss: 0.2431\n",
      "Epoch 48/50\n",
      "235/235 [==============================] - 1s 4ms/step - loss: 0.2436 - val_loss: 0.2429\n",
      "Epoch 49/50\n",
      "235/235 [==============================] - 1s 5ms/step - loss: 0.2434 - val_loss: 0.2426\n",
      "Epoch 50/50\n",
      "235/235 [==============================] - 1s 4ms/step - loss: 0.2432 - val_loss: 0.2425\n"
     ]
    },
    {
     "data": {
      "text/plain": [
       "<keras.src.callbacks.History at 0x261cc55bca0>"
      ]
     },
     "execution_count": 32,
     "metadata": {},
     "output_type": "execute_result"
    }
   ],
   "source": [
    "autoencoder.fit(x_train, x_train,\n",
    "                epochs=50,\n",
    "                batch_size=256,\n",
    "                shuffle=True,\n",
    "                validation_data=(x_test, x_test))"
   ]
  },
  {
   "cell_type": "code",
   "execution_count": 33,
   "metadata": {},
   "outputs": [
    {
     "name": "stdout",
     "output_type": "stream",
     "text": [
      "313/313 [==============================] - 0s 846us/step\n",
      "313/313 [==============================] - 0s 1ms/step\n"
     ]
    }
   ],
   "source": [
    "# Encode and decode some digits\n",
    "# Note that we take them from the *test* set\n",
    "encoded_imgs = encoder.predict(x_test)\n",
    "decoded_imgs = decoder.predict(encoded_imgs)"
   ]
  },
  {
   "cell_type": "code",
   "execution_count": 34,
   "metadata": {},
   "outputs": [
    {
     "data": {
      "image/png": "[encoded data removed]",
      "text/plain": [
       "<Figure size 2000x400 with 20 Axes>"
      ]
     },
     "metadata": {},
     "output_type": "display_data"
    }
   ],
   "source": [
    "# Use Matplotlib (don't ask)\n",
    "import matplotlib.pyplot as pyplot\n",
    "\n",
    "n = 10  # How many digits we will display\n",
    "pyplot.figure(figsize=(20, 4))\n",
    "for i in range(n):\n",
    "    # Display original\n",
    "    ax = pyplot.subplot(2, n, i + 1)\n",
    "    pyplot.imshow(x_test[i].reshape(28, 28))\n",
    "    pyplot.gray()\n",
    "    ax.get_xaxis().set_visible(False)\n",
    "    ax.get_yaxis().set_visible(False)\n",
    "\n",
    "    # Display reconstruction\n",
    "    ax = pyplot.subplot(2, n, i + 1 + n)\n",
    "    pyplot.imshow(decoded_imgs[i].reshape(28, 28))\n",
    "    pyplot.gray()\n",
    "    ax.get_xaxis().set_visible(False)\n",
    "    ax.get_yaxis().set_visible(False)\n",
    "pyplot.show()"
   ]
  },
  {
   "cell_type": "code",
   "execution_count": 35,
   "metadata": {},
   "outputs": [],
   "source": [
    "from keras import regularizers\n",
    "\n",
    "encoding_dim = 32\n",
    "\n",
    "input_img = keras.Input(shape=(784,))\n",
    "# Add a Dense layer with a L1 activity regularizer\n",
    "encoded = layers.Dense(encoding_dim, activation='relu',\n",
    "                activity_regularizer=regularizers.l1(10e-5))(input_img)\n",
    "decoded = layers.Dense(784, activation='sigmoid')(encoded)\n",
    "\n",
    "autoencoder = keras.Model(input_img, decoded)"
   ]
  },
  {
   "cell_type": "code",
   "execution_count": 36,
   "metadata": {},
   "outputs": [],
   "source": [
    "autoencoder.compile(optimizer='adam', loss='binary_crossentropy')"
   ]
  },
  {
   "cell_type": "code",
   "execution_count": 37,
   "metadata": {},
   "outputs": [
    {
     "name": "stdout",
     "output_type": "stream",
     "text": [
      "Epoch 1/50\n",
      "235/235 [==============================] - 2s 6ms/step - loss: 0.2893 - val_loss: 0.1965\n",
      "Epoch 2/50\n",
      "235/235 [==============================] - 1s 5ms/step - loss: 0.1779 - val_loss: 0.1616\n",
      "Epoch 3/50\n",
      "235/235 [==============================] - 1s 4ms/step - loss: 0.1530 - val_loss: 0.1430\n",
      "Epoch 4/50\n",
      "235/235 [==============================] - 1s 5ms/step - loss: 0.1385 - val_loss: 0.1319\n",
      "Epoch 5/50\n",
      "235/235 [==============================] - 1s 5ms/step - loss: 0.1291 - val_loss: 0.1243\n",
      "Epoch 6/50\n",
      "235/235 [==============================] - 1s 5ms/step - loss: 0.1224 - val_loss: 0.1182\n",
      "Epoch 7/50\n",
      "235/235 [==============================] - 1s 5ms/step - loss: 0.1172 - val_loss: 0.1138\n",
      "Epoch 8/50\n",
      "235/235 [==============================] - 1s 6ms/step - loss: 0.1134 - val_loss: 0.1106\n",
      "Epoch 9/50\n",
      "235/235 [==============================] - 2s 7ms/step - loss: 0.1107 - val_loss: 0.1085\n",
      "Epoch 10/50\n",
      "235/235 [==============================] - 1s 6ms/step - loss: 0.1089 - val_loss: 0.1070\n",
      "Epoch 11/50\n",
      "235/235 [==============================] - 1s 5ms/step - loss: 0.1076 - val_loss: 0.1059\n",
      "Epoch 12/50\n",
      "235/235 [==============================] - 2s 7ms/step - loss: 0.1067 - val_loss: 0.1051\n",
      "Epoch 13/50\n",
      "235/235 [==============================] - 1s 5ms/step - loss: 0.1059 - val_loss: 0.1044\n",
      "Epoch 14/50\n",
      "235/235 [==============================] - 1s 5ms/step - loss: 0.1053 - val_loss: 0.1039\n",
      "Epoch 15/50\n",
      "235/235 [==============================] - 1s 5ms/step - loss: 0.1048 - val_loss: 0.1034\n",
      "Epoch 16/50\n",
      "235/235 [==============================] - 1s 5ms/step - loss: 0.1043 - val_loss: 0.1030\n",
      "Epoch 17/50\n",
      "235/235 [==============================] - 1s 5ms/step - loss: 0.1039 - val_loss: 0.1026\n",
      "Epoch 18/50\n",
      "235/235 [==============================] - 1s 5ms/step - loss: 0.1036 - val_loss: 0.1023\n",
      "Epoch 19/50\n",
      "235/235 [==============================] - 1s 5ms/step - loss: 0.1032 - val_loss: 0.1021\n",
      "Epoch 20/50\n",
      "235/235 [==============================] - 1s 4ms/step - loss: 0.1029 - val_loss: 0.1017\n",
      "Epoch 21/50\n",
      "235/235 [==============================] - 1s 4ms/step - loss: 0.1027 - val_loss: 0.1014\n",
      "Epoch 22/50\n",
      "235/235 [==============================] - 1s 4ms/step - loss: 0.1024 - val_loss: 0.1012\n",
      "Epoch 23/50\n",
      "235/235 [==============================] - 1s 4ms/step - loss: 0.1022 - val_loss: 0.1010\n",
      "Epoch 24/50\n",
      "235/235 [==============================] - 1s 4ms/step - loss: 0.1019 - val_loss: 0.1007\n",
      "Epoch 25/50\n",
      "235/235 [==============================] - 1s 4ms/step - loss: 0.1018 - val_loss: 0.1006\n",
      "Epoch 26/50\n",
      "235/235 [==============================] - 1s 4ms/step - loss: 0.1016 - val_loss: 0.1004\n",
      "Epoch 27/50\n",
      "235/235 [==============================] - 1s 4ms/step - loss: 0.1014 - val_loss: 0.1002\n",
      "Epoch 28/50\n",
      "235/235 [==============================] - 1s 4ms/step - loss: 0.1012 - val_loss: 0.1001\n",
      "Epoch 29/50\n",
      "235/235 [==============================] - 1s 4ms/step - loss: 0.1010 - val_loss: 0.0999\n",
      "Epoch 30/50\n",
      "235/235 [==============================] - 1s 4ms/step - loss: 0.1009 - val_loss: 0.0998\n",
      "Epoch 31/50\n",
      "235/235 [==============================] - 1s 4ms/step - loss: 0.1007 - val_loss: 0.0997\n",
      "Epoch 32/50\n",
      "235/235 [==============================] - 1s 4ms/step - loss: 0.1006 - val_loss: 0.0995\n",
      "Epoch 33/50\n",
      "235/235 [==============================] - 1s 4ms/step - loss: 0.1005 - val_loss: 0.0994\n",
      "Epoch 34/50\n",
      "235/235 [==============================] - 1s 4ms/step - loss: 0.1003 - val_loss: 0.0992\n",
      "Epoch 35/50\n",
      "235/235 [==============================] - 1s 4ms/step - loss: 0.1002 - val_loss: 0.0991\n",
      "Epoch 36/50\n",
      "235/235 [==============================] - 1s 4ms/step - loss: 0.1001 - val_loss: 0.0990\n",
      "Epoch 37/50\n",
      "235/235 [==============================] - 1s 4ms/step - loss: 0.1000 - val_loss: 0.0989\n",
      "Epoch 38/50\n",
      "235/235 [==============================] - 1s 4ms/step - loss: 0.0999 - val_loss: 0.0988\n",
      "Epoch 39/50\n",
      "235/235 [==============================] - 1s 4ms/step - loss: 0.0998 - val_loss: 0.0987\n",
      "Epoch 40/50\n",
      "235/235 [==============================] - 1s 4ms/step - loss: 0.0997 - val_loss: 0.0986\n",
      "Epoch 41/50\n",
      "235/235 [==============================] - 1s 4ms/step - loss: 0.0996 - val_loss: 0.0985\n",
      "Epoch 42/50\n",
      "235/235 [==============================] - 1s 4ms/step - loss: 0.0995 - val_loss: 0.0984\n",
      "Epoch 43/50\n",
      "235/235 [==============================] - 1s 4ms/step - loss: 0.0994 - val_loss: 0.0984\n",
      "Epoch 44/50\n",
      "235/235 [==============================] - 1s 4ms/step - loss: 0.0993 - val_loss: 0.0983\n",
      "Epoch 45/50\n",
      "235/235 [==============================] - 1s 5ms/step - loss: 0.0993 - val_loss: 0.0982\n",
      "Epoch 46/50\n",
      "235/235 [==============================] - 1s 4ms/step - loss: 0.0992 - val_loss: 0.0982\n",
      "Epoch 47/50\n",
      "235/235 [==============================] - 1s 5ms/step - loss: 0.0991 - val_loss: 0.0980\n",
      "Epoch 48/50\n",
      "235/235 [==============================] - 1s 4ms/step - loss: 0.0990 - val_loss: 0.0980\n",
      "Epoch 49/50\n",
      "235/235 [==============================] - 1s 4ms/step - loss: 0.0990 - val_loss: 0.0979\n",
      "Epoch 50/50\n",
      "235/235 [==============================] - 1s 5ms/step - loss: 0.0989 - val_loss: 0.0979\n"
     ]
    },
    {
     "data": {
      "text/plain": [
       "<keras.src.callbacks.History at 0x261a6089960>"
      ]
     },
     "execution_count": 37,
     "metadata": {},
     "output_type": "execute_result"
    }
   ],
   "source": [
    "autoencoder.fit(x_train, x_train,\n",
    "                epochs=50,\n",
    "                batch_size=256,\n",
    "                shuffle=True,\n",
    "                validation_data=(x_test, x_test))"
   ]
  },
  {
   "cell_type": "code",
   "execution_count": 38,
   "metadata": {},
   "outputs": [
    {
     "name": "stdout",
     "output_type": "stream",
     "text": [
      "313/313 [==============================] - 0s 1ms/step\n"
     ]
    },
    {
     "data": {
      "image/png": "[encoded data removed]",
      "text/plain": [
       "<Figure size 2000x400 with 20 Axes>"
      ]
     },
     "metadata": {},
     "output_type": "display_data"
    }
   ],
   "source": [
    "decoded_imgs = autoencoder.predict(x_test)\n",
    "\n",
    "n = 10  # How many digits we will display\n",
    "pyplot.figure(figsize=(20, 4))\n",
    "for i in range(n):\n",
    "    # Display original\n",
    "    ax = pyplot.subplot(2, n, i + 1)\n",
    "    pyplot.imshow(x_test[i].reshape(28, 28))\n",
    "    pyplot.gray()\n",
    "    ax.get_xaxis().set_visible(False)\n",
    "    ax.get_yaxis().set_visible(False)\n",
    "\n",
    "    # Display reconstruction\n",
    "    ax = pyplot.subplot(2, n, i + 1 + n)\n",
    "    pyplot.imshow(decoded_imgs[i].reshape(28, 28))\n",
    "    pyplot.gray()\n",
    "    ax.get_xaxis().set_visible(False)\n",
    "    ax.get_yaxis().set_visible(False)\n",
    "pyplot.show()"
   ]
  },
  {
   "cell_type": "code",
   "execution_count": 39,
   "metadata": {},
   "outputs": [],
   "source": [
    "input_img = keras.Input(shape=(784,))\n",
    "encoded = layers.Dense(128, activation='relu')(input_img)\n",
    "encoded = layers.Dense(64, activation='relu')(encoded)\n",
    "encoded = layers.Dense(32, activation='relu')(encoded)\n",
    "\n",
    "decoded = layers.Dense(64, activation='relu')(encoded)\n",
    "decoded = layers.Dense(128, activation='relu')(decoded)\n",
    "decoded = layers.Dense(784, activation='sigmoid')(decoded)"
   ]
  },
  {
   "cell_type": "code",
   "execution_count": 40,
   "metadata": {},
   "outputs": [
    {
     "name": "stdout",
     "output_type": "stream",
     "text": [
      "Epoch 1/100\n",
      "235/235 [==============================] - 2s 7ms/step - loss: 0.2490 - val_loss: 0.1658\n",
      "Epoch 2/100\n",
      "235/235 [==============================] - 1s 6ms/step - loss: 0.1494 - val_loss: 0.1361\n",
      "Epoch 3/100\n",
      "235/235 [==============================] - 2s 8ms/step - loss: 0.1306 - val_loss: 0.1238\n",
      "Epoch 4/100\n",
      "235/235 [==============================] - 3s 11ms/step - loss: 0.1211 - val_loss: 0.1164\n",
      "Epoch 5/100\n",
      "235/235 [==============================] - 2s 10ms/step - loss: 0.1159 - val_loss: 0.1124\n",
      "Epoch 6/100\n",
      "235/235 [==============================] - 2s 10ms/step - loss: 0.1123 - val_loss: 0.1093\n",
      "Epoch 7/100\n",
      "235/235 [==============================] - 2s 8ms/step - loss: 0.1092 - val_loss: 0.1064\n",
      "Epoch 8/100\n",
      "235/235 [==============================] - 2s 9ms/step - loss: 0.1065 - val_loss: 0.1041\n",
      "Epoch 9/100\n",
      "235/235 [==============================] - 2s 7ms/step - loss: 0.1042 - val_loss: 0.1019\n",
      "Epoch 10/100\n",
      "235/235 [==============================] - 1s 6ms/step - loss: 0.1022 - val_loss: 0.1003\n",
      "Epoch 11/100\n",
      "235/235 [==============================] - 1s 5ms/step - loss: 0.1004 - val_loss: 0.0986\n",
      "Epoch 12/100\n",
      "235/235 [==============================] - 1s 5ms/step - loss: 0.0989 - val_loss: 0.0972\n",
      "Epoch 13/100\n",
      "235/235 [==============================] - 1s 5ms/step - loss: 0.0975 - val_loss: 0.0959\n",
      "Epoch 14/100\n",
      "235/235 [==============================] - 1s 6ms/step - loss: 0.0963 - val_loss: 0.0948\n",
      "Epoch 15/100\n",
      "235/235 [==============================] - 1s 6ms/step - loss: 0.0953 - val_loss: 0.0937\n",
      "Epoch 16/100\n",
      "235/235 [==============================] - 2s 7ms/step - loss: 0.0944 - val_loss: 0.0931\n",
      "Epoch 17/100\n",
      "235/235 [==============================] - 2s 10ms/step - loss: 0.0935 - val_loss: 0.0924\n",
      "Epoch 18/100\n",
      "235/235 [==============================] - 2s 8ms/step - loss: 0.0928 - val_loss: 0.0920\n",
      "Epoch 19/100\n",
      "235/235 [==============================] - 2s 7ms/step - loss: 0.0921 - val_loss: 0.0909\n",
      "Epoch 20/100\n",
      "235/235 [==============================] - 2s 8ms/step - loss: 0.0915 - val_loss: 0.0907\n",
      "Epoch 21/100\n",
      "235/235 [==============================] - 2s 7ms/step - loss: 0.0910 - val_loss: 0.0904\n",
      "Epoch 22/100\n",
      "235/235 [==============================] - 2s 8ms/step - loss: 0.0905 - val_loss: 0.0895\n",
      "Epoch 23/100\n",
      "235/235 [==============================] - 2s 9ms/step - loss: 0.0901 - val_loss: 0.0891\n",
      "Epoch 24/100\n",
      "235/235 [==============================] - 2s 7ms/step - loss: 0.0896 - val_loss: 0.0896\n",
      "Epoch 25/100\n",
      "235/235 [==============================] - 2s 7ms/step - loss: 0.0893 - val_loss: 0.0884\n",
      "Epoch 26/100\n",
      "235/235 [==============================] - 2s 8ms/step - loss: 0.0888 - val_loss: 0.0880\n",
      "Epoch 27/100\n",
      "235/235 [==============================] - 2s 8ms/step - loss: 0.0885 - val_loss: 0.0878\n",
      "Epoch 28/100\n",
      "235/235 [==============================] - 2s 8ms/step - loss: 0.0881 - val_loss: 0.0874\n",
      "Epoch 29/100\n",
      "235/235 [==============================] - 2s 10ms/step - loss: 0.0878 - val_loss: 0.0870\n",
      "Epoch 30/100\n",
      "235/235 [==============================] - 2s 8ms/step - loss: 0.0875 - val_loss: 0.0867\n",
      "Epoch 31/100\n",
      "235/235 [==============================] - 2s 8ms/step - loss: 0.0871 - val_loss: 0.0864\n",
      "Epoch 32/100\n",
      "235/235 [==============================] - 2s 10ms/step - loss: 0.0868 - val_loss: 0.0862\n",
      "Epoch 33/100\n",
      "235/235 [==============================] - 2s 9ms/step - loss: 0.0866 - val_loss: 0.0860\n",
      "Epoch 34/100\n",
      "235/235 [==============================] - 2s 10ms/step - loss: 0.0864 - val_loss: 0.0857\n",
      "Epoch 35/100\n",
      "235/235 [==============================] - 2s 8ms/step - loss: 0.0861 - val_loss: 0.0856\n",
      "Epoch 36/100\n",
      "235/235 [==============================] - 2s 8ms/step - loss: 0.0860 - val_loss: 0.0852\n",
      "Epoch 37/100\n",
      "235/235 [==============================] - 2s 8ms/step - loss: 0.0857 - val_loss: 0.0853\n",
      "Epoch 38/100\n",
      "235/235 [==============================] - 2s 9ms/step - loss: 0.0856 - val_loss: 0.0853\n",
      "Epoch 39/100\n",
      "235/235 [==============================] - 2s 8ms/step - loss: 0.0855 - val_loss: 0.0848\n",
      "Epoch 40/100\n",
      "235/235 [==============================] - 2s 7ms/step - loss: 0.0853 - val_loss: 0.0849\n",
      "Epoch 41/100\n",
      "235/235 [==============================] - 2s 7ms/step - loss: 0.0852 - val_loss: 0.0846\n",
      "Epoch 42/100\n",
      "235/235 [==============================] - 2s 8ms/step - loss: 0.0851 - val_loss: 0.0844\n",
      "Epoch 43/100\n",
      "235/235 [==============================] - 2s 7ms/step - loss: 0.0850 - val_loss: 0.0844\n",
      "Epoch 44/100\n",
      "235/235 [==============================] - 2s 7ms/step - loss: 0.0848 - val_loss: 0.0846\n",
      "Epoch 45/100\n",
      "235/235 [==============================] - 2s 7ms/step - loss: 0.0847 - val_loss: 0.0842\n",
      "Epoch 46/100\n",
      "235/235 [==============================] - 2s 8ms/step - loss: 0.0846 - val_loss: 0.0841\n",
      "Epoch 47/100\n",
      "235/235 [==============================] - 2s 7ms/step - loss: 0.0845 - val_loss: 0.0840\n",
      "Epoch 48/100\n",
      "235/235 [==============================] - 2s 7ms/step - loss: 0.0845 - val_loss: 0.0840\n",
      "Epoch 49/100\n",
      "235/235 [==============================] - 2s 7ms/step - loss: 0.0844 - val_loss: 0.0839\n",
      "Epoch 50/100\n",
      "235/235 [==============================] - 2s 7ms/step - loss: 0.0843 - val_loss: 0.0837\n",
      "Epoch 51/100\n",
      "235/235 [==============================] - 2s 7ms/step - loss: 0.0842 - val_loss: 0.0837\n",
      "Epoch 52/100\n",
      "235/235 [==============================] - 2s 7ms/step - loss: 0.0841 - val_loss: 0.0837\n",
      "Epoch 53/100\n",
      "235/235 [==============================] - 2s 7ms/step - loss: 0.0840 - val_loss: 0.0836\n",
      "Epoch 54/100\n",
      "235/235 [==============================] - 2s 7ms/step - loss: 0.0840 - val_loss: 0.0837\n",
      "Epoch 55/100\n",
      "235/235 [==============================] - 2s 8ms/step - loss: 0.0839 - val_loss: 0.0834\n",
      "Epoch 56/100\n",
      "235/235 [==============================] - 2s 7ms/step - loss: 0.0838 - val_loss: 0.0836\n",
      "Epoch 57/100\n",
      "235/235 [==============================] - 2s 7ms/step - loss: 0.0838 - val_loss: 0.0835\n",
      "Epoch 58/100\n",
      "235/235 [==============================] - 2s 7ms/step - loss: 0.0837 - val_loss: 0.0837\n",
      "Epoch 59/100\n",
      "235/235 [==============================] - 2s 7ms/step - loss: 0.0836 - val_loss: 0.0834\n",
      "Epoch 60/100\n",
      "235/235 [==============================] - 2s 7ms/step - loss: 0.0835 - val_loss: 0.0832\n",
      "Epoch 61/100\n",
      "235/235 [==============================] - 2s 8ms/step - loss: 0.0835 - val_loss: 0.0833\n",
      "Epoch 62/100\n",
      "235/235 [==============================] - 2s 8ms/step - loss: 0.0834 - val_loss: 0.0832\n",
      "Epoch 63/100\n",
      "235/235 [==============================] - 2s 9ms/step - loss: 0.0834 - val_loss: 0.0831\n",
      "Epoch 64/100\n",
      "235/235 [==============================] - 2s 7ms/step - loss: 0.0833 - val_loss: 0.0831\n",
      "Epoch 65/100\n",
      "235/235 [==============================] - 2s 7ms/step - loss: 0.0832 - val_loss: 0.0830\n",
      "Epoch 66/100\n",
      "235/235 [==============================] - 2s 7ms/step - loss: 0.0832 - val_loss: 0.0833\n",
      "Epoch 67/100\n",
      "235/235 [==============================] - 2s 9ms/step - loss: 0.0832 - val_loss: 0.0828\n",
      "Epoch 68/100\n",
      "235/235 [==============================] - 2s 8ms/step - loss: 0.0831 - val_loss: 0.0828\n",
      "Epoch 69/100\n",
      "235/235 [==============================] - 3s 11ms/step - loss: 0.0830 - val_loss: 0.0829\n",
      "Epoch 70/100\n",
      "235/235 [==============================] - 2s 9ms/step - loss: 0.0830 - val_loss: 0.0830\n",
      "Epoch 71/100\n",
      "235/235 [==============================] - 3s 11ms/step - loss: 0.0829 - val_loss: 0.0825\n",
      "Epoch 72/100\n",
      "235/235 [==============================] - 2s 10ms/step - loss: 0.0829 - val_loss: 0.0828\n",
      "Epoch 73/100\n",
      "235/235 [==============================] - 2s 9ms/step - loss: 0.0829 - val_loss: 0.0828\n",
      "Epoch 74/100\n",
      "235/235 [==============================] - 2s 8ms/step - loss: 0.0828 - val_loss: 0.0825\n",
      "Epoch 75/100\n",
      "235/235 [==============================] - 2s 8ms/step - loss: 0.0828 - val_loss: 0.0823\n",
      "Epoch 76/100\n",
      "235/235 [==============================] - 2s 7ms/step - loss: 0.0827 - val_loss: 0.0826\n",
      "Epoch 77/100\n",
      "235/235 [==============================] - 2s 7ms/step - loss: 0.0827 - val_loss: 0.0824\n",
      "Epoch 78/100\n",
      "235/235 [==============================] - 2s 7ms/step - loss: 0.0827 - val_loss: 0.0824\n",
      "Epoch 79/100\n",
      "235/235 [==============================] - 2s 7ms/step - loss: 0.0826 - val_loss: 0.0825\n",
      "Epoch 80/100\n",
      "235/235 [==============================] - 1s 6ms/step - loss: 0.0827 - val_loss: 0.0824\n",
      "Epoch 81/100\n",
      "235/235 [==============================] - 1s 6ms/step - loss: 0.0826 - val_loss: 0.0823\n",
      "Epoch 82/100\n",
      "235/235 [==============================] - 1s 6ms/step - loss: 0.0825 - val_loss: 0.0822\n",
      "Epoch 83/100\n",
      "235/235 [==============================] - 1s 6ms/step - loss: 0.0825 - val_loss: 0.0823\n",
      "Epoch 84/100\n",
      "235/235 [==============================] - 1s 6ms/step - loss: 0.0824 - val_loss: 0.0822\n",
      "Epoch 85/100\n",
      "235/235 [==============================] - 2s 6ms/step - loss: 0.0825 - val_loss: 0.0823\n",
      "Epoch 86/100\n",
      "235/235 [==============================] - 1s 6ms/step - loss: 0.0824 - val_loss: 0.0824\n",
      "Epoch 87/100\n",
      "235/235 [==============================] - 1s 6ms/step - loss: 0.0823 - val_loss: 0.0822\n",
      "Epoch 88/100\n",
      "235/235 [==============================] - 2s 7ms/step - loss: 0.0823 - val_loss: 0.0821\n",
      "Epoch 89/100\n",
      "235/235 [==============================] - 2s 8ms/step - loss: 0.0823 - val_loss: 0.0822\n",
      "Epoch 90/100\n",
      "235/235 [==============================] - 2s 9ms/step - loss: 0.0823 - val_loss: 0.0822\n",
      "Epoch 91/100\n",
      "235/235 [==============================] - 2s 7ms/step - loss: 0.0823 - val_loss: 0.0819\n",
      "Epoch 92/100\n",
      "235/235 [==============================] - 2s 8ms/step - loss: 0.0822 - val_loss: 0.0819\n",
      "Epoch 93/100\n",
      "235/235 [==============================] - 2s 8ms/step - loss: 0.0822 - val_loss: 0.0823\n",
      "Epoch 94/100\n",
      "235/235 [==============================] - 2s 8ms/step - loss: 0.0822 - val_loss: 0.0820\n",
      "Epoch 95/100\n",
      "235/235 [==============================] - 2s 7ms/step - loss: 0.0821 - val_loss: 0.0819\n",
      "Epoch 96/100\n",
      "235/235 [==============================] - 2s 8ms/step - loss: 0.0821 - val_loss: 0.0820\n",
      "Epoch 97/100\n",
      "235/235 [==============================] - 2s 8ms/step - loss: 0.0821 - val_loss: 0.0819\n",
      "Epoch 98/100\n",
      "235/235 [==============================] - 2s 8ms/step - loss: 0.0820 - val_loss: 0.0817\n",
      "Epoch 99/100\n",
      "235/235 [==============================] - 2s 8ms/step - loss: 0.0820 - val_loss: 0.0817\n",
      "Epoch 100/100\n",
      "235/235 [==============================] - 3s 11ms/step - loss: 0.0820 - val_loss: 0.0823\n"
     ]
    },
    {
     "data": {
      "text/plain": [
       "<keras.src.callbacks.History at 0x2619f519f30>"
      ]
     },
     "execution_count": 40,
     "metadata": {},
     "output_type": "execute_result"
    }
   ],
   "source": [
    "autoencoder = keras.Model(input_img, decoded)\n",
    "autoencoder.compile(optimizer='adam', loss='binary_crossentropy')\n",
    "\n",
    "autoencoder.fit(x_train, x_train,\n",
    "                epochs=100,\n",
    "                batch_size=256,\n",
    "                shuffle=True,\n",
    "                validation_data=(x_test, x_test))"
   ]
  },
  {
   "cell_type": "code",
   "execution_count": 41,
   "metadata": {},
   "outputs": [
    {
     "name": "stdout",
     "output_type": "stream",
     "text": [
      "313/313 [==============================] - 1s 1ms/step\n"
     ]
    },
    {
     "data": {
      "image/png": "[encoded data removed]",
      "text/plain": [
       "<Figure size 2000x400 with 20 Axes>"
      ]
     },
     "metadata": {},
     "output_type": "display_data"
    }
   ],
   "source": [
    "decoded_imgs = autoencoder.predict(x_test)\n",
    "\n",
    "n = 10  # How many digits we will display\n",
    "pyplot.figure(figsize=(20, 4))\n",
    "for i in range(n):\n",
    "    # Display original\n",
    "    ax = pyplot.subplot(2, n, i + 1)\n",
    "    pyplot.imshow(x_test[i].reshape(28, 28))\n",
    "    pyplot.gray()\n",
    "    ax.get_xaxis().set_visible(False)\n",
    "    ax.get_yaxis().set_visible(False)\n",
    "\n",
    "    # Display reconstruction\n",
    "    ax = pyplot.subplot(2, n, i + 1 + n)\n",
    "    pyplot.imshow(decoded_imgs[i].reshape(28, 28))\n",
    "    pyplot.gray()\n",
    "    ax.get_xaxis().set_visible(False)\n",
    "    ax.get_yaxis().set_visible(False)\n",
    "pyplot.show()"
   ]
  },
  {
   "cell_type": "code",
   "execution_count": 43,
   "metadata": {},
   "outputs": [],
   "source": [
    "input_img = keras.Input(shape=(28, 28, 1))\n",
    "\n",
    "x = layers.Conv2D(16, (3, 3), activation='relu', padding='same')(input_img)\n",
    "x = layers.MaxPooling2D((2, 2), padding='same')(x)\n",
    "x = layers.Conv2D(8, (3, 3), activation='relu', padding='same')(x)\n",
    "x = layers.MaxPooling2D((2, 2), padding='same')(x)\n",
    "x = layers.Conv2D(8, (3, 3), activation='relu', padding='same')(x)\n",
    "encoded = layers.MaxPooling2D((2, 2), padding='same')(x)\n",
    "\n",
    "# at this point the representation is (4, 4, 8) i.e. 128-dimensional\n",
    "\n",
    "x = layers.Conv2D(8, (3, 3), activation='relu', padding='same')(encoded)\n",
    "x = layers.UpSampling2D((2, 2))(x)\n",
    "x = layers.Conv2D(8, (3, 3), activation='relu', padding='same')(x)\n",
    "x = layers.UpSampling2D((2, 2))(x)\n",
    "x = layers.Conv2D(16, (3, 3), activation='relu')(x)\n",
    "x = layers.UpSampling2D((2, 2))(x)\n",
    "decoded = layers.Conv2D(1, (3, 3), activation='sigmoid', padding='same')(x)\n",
    "\n",
    "autoencoder = keras.Model(input_img, decoded)\n",
    "autoencoder.compile(optimizer='adam', loss='binary_crossentropy')"
   ]
  },
  {
   "cell_type": "code",
   "execution_count": 45,
   "metadata": {},
   "outputs": [],
   "source": [
    "(x_train, _), (x_test, _) = mnist.load_data()\n",
    "\n",
    "x_train = x_train.astype('float32') / 255.\n",
    "x_test = x_test.astype('float32') / 255.\n",
    "x_train = numpy.reshape(x_train, (len(x_train), 28, 28, 1))\n",
    "x_test = numpy.reshape(x_test, (len(x_test), 28, 28, 1))"
   ]
  },
  {
   "cell_type": "code",
   "execution_count": 46,
   "metadata": {},
   "outputs": [
    {
     "name": "stdout",
     "output_type": "stream",
     "text": [
      "Epoch 1/50\n",
      "469/469 [==============================] - 49s 101ms/step - loss: 0.2087 - val_loss: 0.1437\n",
      "Epoch 2/50\n",
      "469/469 [==============================] - 46s 98ms/step - loss: 0.1349 - val_loss: 0.1268\n",
      "Epoch 3/50\n",
      "469/469 [==============================] - 46s 97ms/step - loss: 0.1240 - val_loss: 0.1192\n",
      "Epoch 4/50\n",
      "469/469 [==============================] - 50s 107ms/step - loss: 0.1182 - val_loss: 0.1152\n",
      "Epoch 5/50\n",
      "469/469 [==============================] - 50s 107ms/step - loss: 0.1144 - val_loss: 0.1112\n",
      "Epoch 6/50\n",
      "469/469 [==============================] - ETA: 0s - loss: 0.1114"
     ]
    }
   ],
   "source": [
    "autoencoder.fit(x_train, x_train,\n",
    "                epochs=50,\n",
    "                batch_size=128,\n",
    "                shuffle=True,\n",
    "                validation_data=(x_test, x_test),)"
   ]
  },
  {
   "cell_type": "code",
   "execution_count": null,
   "metadata": {},
   "outputs": [],
   "source": [
    "decoded_imgs = autoencoder.predict(x_test)\n",
    "\n",
    "n = 10\n",
    "pyplot.figure(figsize=(20, 4))\n",
    "for i in range(1, n + 1):\n",
    "    # Display original\n",
    "    ax = pyplot.subplot(2, n, i)\n",
    "    pyplot.imshow(x_test[i].reshape(28, 28))\n",
    "    pyplot.gray()\n",
    "    ax.get_xaxis().set_visible(False)\n",
    "    ax.get_yaxis().set_visible(False)\n",
    "\n",
    "    # Display reconstruction\n",
    "    ax = pyplot.subplot(2, n, i + n)\n",
    "    pyplot.imshow(decoded_imgs[i].reshape(28, 28))\n",
    "    pyplot.gray()\n",
    "    ax.get_xaxis().set_visible(False)\n",
    "    ax.get_yaxis().set_visible(False)\n",
    "pyplot.show()"
   ]
  },
  {
   "cell_type": "code",
   "execution_count": null,
   "metadata": {},
   "outputs": [],
   "source": [
    "encoder = keras.Model(input_img, encoded)\n",
    "encoded_imgs = encoder.predict(x_test)\n",
    "\n",
    "n = 10\n",
    "pyplot.figure(figsize=(20, 8))\n",
    "for i in range(1, n + 1):\n",
    "    ax = pyplot.subplot(1, n, i)\n",
    "    pyplot.imshow(encoded_imgs[i].reshape((4, 4 * 8)).T)\n",
    "    pyplot.gray()\n",
    "    ax.get_xaxis().set_visible(False)\n",
    "    ax.get_yaxis().set_visible(False)\n",
    "pyplot.show()"
   ]
  },
  {
   "cell_type": "code",
   "execution_count": null,
   "metadata": {},
   "outputs": [],
   "source": [
    "(x_train, _), (x_test, _) = mnist.load_data()\n",
    "\n",
    "x_train = x_train.astype('float32') / 255.\n",
    "x_test = x_test.astype('float32') / 255.\n",
    "x_train = numpy.reshape(x_train, (len(x_train), 28, 28, 1))\n",
    "x_test = numpy.reshape(x_test, (len(x_test), 28, 28, 1))\n",
    "\n",
    "noise_factor = 0.5\n",
    "x_train_noisy = x_train + noise_factor * numpy.random.normal(loc=0.0, scale=1.0, size=x_train.shape) \n",
    "x_test_noisy = x_test + noise_factor * numpy.random.normal(loc=0.0, scale=1.0, size=x_test.shape) \n",
    "\n",
    "x_train_noisy = numpy.clip(x_train_noisy, 0., 1.)\n",
    "x_test_noisy = numpy.clip(x_test_noisy, 0., 1.)"
   ]
  },
  {
   "cell_type": "code",
   "execution_count": null,
   "metadata": {},
   "outputs": [],
   "source": [
    "n = 10\n",
    "pyplot.figure(figsize=(20, 2))\n",
    "for i in range(1, n + 1):\n",
    "    ax = pyplot.subplot(1, n, i)\n",
    "    pyplot.imshow(x_test_noisy[i].reshape(28, 28))\n",
    "    pyplot.gray()\n",
    "    ax.get_xaxis().set_visible(False)\n",
    "    ax.get_yaxis().set_visible(False)\n",
    "pyplot.show()"
   ]
  },
  {
   "cell_type": "code",
   "execution_count": null,
   "metadata": {},
   "outputs": [],
   "source": [
    "input_img = keras.Input(shape=(28, 28, 1))\n",
    "\n",
    "x = layers.Conv2D(32, (3, 3), activation='relu', padding='same')(input_img)\n",
    "x = layers.MaxPooling2D((2, 2), padding='same')(x)\n",
    "x = layers.Conv2D(32, (3, 3), activation='relu', padding='same')(x)\n",
    "encoded = layers.MaxPooling2D((2, 2), padding='same')(x)\n",
    "\n",
    "# At this point the representation is (7, 7, 32)\n",
    "\n",
    "x = layers.Conv2D(32, (3, 3), activation='relu', padding='same')(encoded)\n",
    "x = layers.UpSampling2D((2, 2))(x)\n",
    "x = layers.Conv2D(32, (3, 3), activation='relu', padding='same')(x)\n",
    "x = layers.UpSampling2D((2, 2))(x)\n",
    "decoded = layers.Conv2D(1, (3, 3), activation='sigmoid', padding='same')(x)\n",
    "\n",
    "autoencoder = keras.Model(input_img, decoded)\n",
    "autoencoder.compile(optimizer='adam', loss='binary_crossentropy')"
   ]
  },
  {
   "cell_type": "code",
   "execution_count": null,
   "metadata": {},
   "outputs": [],
   "source": [
    "autoencoder.fit(x_train_noisy, x_train,\n",
    "                epochs=100,\n",
    "                batch_size=128,\n",
    "                shuffle=True,\n",
    "                validation_data=(x_test_noisy, x_test))"
   ]
  },
  {
   "cell_type": "code",
   "execution_count": null,
   "metadata": {},
   "outputs": [],
   "source": [
    "original_dim = 28 * 28\n",
    "intermediate_dim = 64\n",
    "latent_dim = 2\n",
    "\n",
    "inputs = keras.Input(shape=(original_dim,))\n",
    "h = layers.Dense(intermediate_dim, activation='relu')(inputs)\n",
    "z_mean = layers.Dense(latent_dim)(h)\n",
    "z_log_sigma = layers.Dense(latent_dim)(h)"
   ]
  },
  {
   "cell_type": "code",
   "execution_count": null,
   "metadata": {},
   "outputs": [],
   "source": [
    "from keras import backend as K\n",
    "def sampling(args):\n",
    "    z_mean, z_log_sigma = args\n",
    "    epsilon = K.random_normal(shape=(K.shape(z_mean)[0], latent_dim),\n",
    "                              mean=0., stddev=0.1)\n",
    "    return z_mean + K.exp(z_log_sigma) * epsilon\n",
    "\n",
    "z = layers.Lambda(sampling)([z_mean, z_log_sigma])"
   ]
  },
  {
   "cell_type": "code",
   "execution_count": null,
   "metadata": {},
   "outputs": [],
   "source": [
    "# Create encoder\n",
    "encoder = keras.Model(inputs, [z_mean, z_log_sigma, z], name='encoder')\n",
    "\n",
    "# Create decoder\n",
    "latent_inputs = keras.Input(shape=(latent_dim,), name='z_sampling')\n",
    "x = layers.Dense(intermediate_dim, activation='relu')(latent_inputs)\n",
    "outputs = layers.Dense(original_dim, activation='sigmoid')(x)\n",
    "decoder = keras.Model(latent_inputs, outputs, name='decoder')\n",
    "\n",
    "# instantiate VAE model\n",
    "outputs = decoder(encoder(inputs)[2])\n",
    "vae = keras.Model(inputs, outputs, name='vae_mlp')"
   ]
  },
  {
   "cell_type": "code",
   "execution_count": null,
   "metadata": {},
   "outputs": [],
   "source": [
    "reconstruction_loss = keras.losses.binary_crossentropy(inputs, outputs)\n",
    "reconstruction_loss *= original_dim\n",
    "kl_loss = 1 + z_log_sigma - K.square(z_mean) - K.exp(z_log_sigma)\n",
    "kl_loss = K.sum(kl_loss, axis=-1)\n",
    "kl_loss *= -0.5\n",
    "vae_loss = K.mean(reconstruction_loss + kl_loss)\n",
    "vae.add_loss(vae_loss)\n",
    "vae.compile(optimizer='adam')"
   ]
  },
  {
   "cell_type": "code",
   "execution_count": null,
   "metadata": {},
   "outputs": [],
   "source": [
    "(x_train, y_train), (x_test, y_test) = mnist.load_data()\n",
    "\n",
    "x_train = x_train.astype('float32') / 255.\n",
    "x_test = x_test.astype('float32') / 255.\n",
    "x_train = x_train.reshape((len(x_train), numpy.prod(x_train.shape[1:])))\n",
    "x_test = x_test.reshape((len(x_test), numpy.prod(x_test.shape[1:])))\n",
    "\n",
    "vae.fit(x_train, x_train,\n",
    "        epochs=100,\n",
    "        batch_size=32,\n",
    "        validation_data=(x_test, x_test))"
   ]
  },
  {
   "cell_type": "code",
   "execution_count": null,
   "metadata": {},
   "outputs": [],
   "source": [
    "x_test_encoded = encoder.predict(x_test, batch_size=256)\n",
    "pyplot.figure(figsize=(6, 6))\n",
    "pyplot.scatter(x_test_encoded[:, 0], x_test_encoded[:, 1], c=y_test)\n",
    "pyplot.colorbar()\n",
    "pyplot.show()"
   ]
  },
  {
   "cell_type": "code",
   "execution_count": null,
   "metadata": {},
   "outputs": [],
   "source": [
    "# Display a 2D manifold of the digits\n",
    "n = 15  # figure with 15x15 digits\n",
    "digit_size = 28\n",
    "figure = numpy.zeros((digit_size * n, digit_size * n))\n",
    "# We will sample n points within [-15, 15] standard deviations\n",
    "grid_x = numpy.linspace(-15, 15, n)\n",
    "grid_y = numpy.linspace(-15, 15, n)\n",
    "\n",
    "for i, yi in enumerate(grid_x):\n",
    "    for j, xi in enumerate(grid_y):\n",
    "        z_sample = numpy.array([[xi, yi]])\n",
    "        x_decoded = decoder.predict(z_sample)\n",
    "        digit = x_decoded[0].reshape(digit_size, digit_size)\n",
    "        figure[i * digit_size: (i + 1) * digit_size,\n",
    "               j * digit_size: (j + 1) * digit_size] = digit\n",
    "\n",
    "pyplot.figure(figsize=(10, 10))\n",
    "pyplot.imshow(figure)\n",
    "pyplot.show()"
   ]
  }
 ],
 "metadata": {
  "kernelspec": {
   "display_name": "infnet-nn",
   "language": "python",
   "name": "python3"
  },
  "language_info": {
   "codemirror_mode": {
    "name": "ipython",
    "version": 3
   },
   "file_extension": ".py",
   "mimetype": "text/x-python",
   "name": "python",
   "nbconvert_exporter": "python",
   "pygments_lexer": "ipython3",
   "version": "3.10.13"
  },
  "orig_nbformat": 4
 },
 "nbformat": 4,
 "nbformat_minor": 2
}
