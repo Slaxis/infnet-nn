{
 "cells": [
  {
   "attachments": {},
   "cell_type": "markdown",
   "metadata": {},
   "source": [
    "### LITTLE EYES V3\n",
    "#### Meu Terceiro Modelo de Visão Computacional\n",
    "\n",
    "Validação cruzada / controle de parada para selecionar o modelo mais genérico "
   ]
  },
  {
   "cell_type": "code",
   "execution_count": 1,
   "metadata": {},
   "outputs": [],
   "source": [
    "# NETWORK\n",
    "the_seed = 32\n",
    "digit_size = (28, 28, 1)\n",
    "convnn_activation = 'relu'\n",
    "fully_connected_activation = 'tanh'\n",
    "hyperparameter_max = 5\n",
    "learning_rate = 0.01\n",
    "max_epochs = 5\n",
    "score_metric = 'accuracy'\n",
    "verbose = 0\n",
    "\n",
    "# VALIDATION\n",
    "n_folds = 5"
   ]
  },
  {
   "cell_type": "code",
   "execution_count": 2,
   "metadata": {},
   "outputs": [],
   "source": [
    "import tensorflow\n",
    "import keras\n",
    "from keras import datasets, layers, optimizers, Input, Model\n",
    "from matplotlib import pyplot\n",
    "import numpy\n",
    "import pandas\n",
    "import random\n",
    "from sklearn.model_selection import StratifiedKFold\n",
    "from seaborn import boxplot\n",
    "from sklearn.metrics import accuracy_score"
   ]
  },
  {
   "cell_type": "code",
   "execution_count": 3,
   "metadata": {},
   "outputs": [],
   "source": [
    "random.seed(the_seed)\n",
    "numpy.random.seed(the_seed)\n",
    "tensorflow.random.set_seed(the_seed)"
   ]
  },
  {
   "cell_type": "code",
   "execution_count": 4,
   "metadata": {},
   "outputs": [],
   "source": [
    "def create_little_eyes(digit_size : tuple[int, int, int] = (28, 28, 1),\n",
    "                       convnn_activation : str = 'relu',\n",
    "                       fully_connected_activation : str = 'tanh',\n",
    "                       net_name : str = 'LittleEyes',\n",
    "                       hyperparameter : int = 1):\n",
    "    # CAMADA DE ENTRADA\n",
    "    inputs = Input(shape=digit_size)\n",
    "\n",
    "    # PRIMEIRA CAMADA CONVOLUCIONAL\n",
    "    conv_2d_layer_1 = layers.Conv2D(2*hyperparameter, (3, 3), activation=convnn_activation)\n",
    "    x = conv_2d_layer_1(inputs)\n",
    "\n",
    "    # PRIMEIRA CAMADA MAX POOLING\n",
    "    maxpool_1 = layers.MaxPooling2D((2, 2))\n",
    "    x = maxpool_1(x)\n",
    "\n",
    "    # SEGUNDA CAMADA CONVOLUCIONAL\n",
    "    conv_2d_layer_2 = layers.Conv2D(4*hyperparameter, (3, 3), activation=convnn_activation)\n",
    "    x = conv_2d_layer_2(x)\n",
    "\n",
    "    # SEGUNDA CAMADA MAX POOLING\n",
    "    maxpool_2 = layers.MaxPooling2D((2, 2))\n",
    "    x = maxpool_2(x)\n",
    "\n",
    "    # TERCEIRA CAMADA CONVOLUCIONAL\n",
    "    conv_2d_layer_3 = layers.Conv2D(4*hyperparameter, (3, 3), activation=convnn_activation)\n",
    "    x = conv_2d_layer_3(x)\n",
    "\n",
    "    # TERCEIRA CAMADA MAX POOLING\n",
    "    maxpool_3 = layers.MaxPooling2D((2, 2))\n",
    "    x = maxpool_3(x)\n",
    "\n",
    "    # FLATTEN\n",
    "    flatten_layer = layers.Flatten()\n",
    "    x = flatten_layer(x)\n",
    "\n",
    "    # FULLY CONNECTED HIDDEN LAYER\n",
    "    hidden_layer = layers.Dense(hyperparameter + 1, activation=fully_connected_activation)\n",
    "    x = hidden_layer(x)\n",
    "\n",
    "    # OUTPUT LAYER\n",
    "    output_layer = layers.Dense(10)\n",
    "    outputs = output_layer(x)\n",
    "\n",
    "    return Model(inputs=inputs, outputs=outputs, name=net_name)"
   ]
  },
  {
   "cell_type": "code",
   "execution_count": 5,
   "metadata": {},
   "outputs": [],
   "source": [
    "(train_images, train_labels), (validation_images, validation_labels) = datasets.mnist.load_data()\n",
    "\n",
    "# Normalize pixel values to be between 0 and 1\n",
    "train_images, validation_images = train_images / 255.0, validation_images / 255.0"
   ]
  },
  {
   "cell_type": "code",
   "execution_count": 6,
   "metadata": {},
   "outputs": [
    {
     "data": {
      "text/plain": [
       "((60000, 28, 28), (10000, 28, 28))"
      ]
     },
     "execution_count": 6,
     "metadata": {},
     "output_type": "execute_result"
    }
   ],
   "source": [
    "train_images.shape, validation_images.shape"
   ]
  },
  {
   "cell_type": "code",
   "execution_count": 7,
   "metadata": {},
   "outputs": [
    {
     "data": {
      "text/plain": [
       "(array([0, 1, 2, 3, 4, 5, 6, 7, 8, 9], dtype=uint8),\n",
       " array([5923, 6742, 5958, 6131, 5842, 5421, 5918, 6265, 5851, 5949],\n",
       "       dtype=int64))"
      ]
     },
     "execution_count": 7,
     "metadata": {},
     "output_type": "execute_result"
    }
   ],
   "source": [
    "numpy.unique(train_labels, return_counts=True)"
   ]
  },
  {
   "cell_type": "code",
   "execution_count": 8,
   "metadata": {},
   "outputs": [
    {
     "name": "stdout",
     "output_type": "stream",
     "text": [
      "LITTLEEYES_1_0: 66% TRAINING ACCURACY / 65% VALIDATION ACCURACY\n",
      "LITTLEEYES_1_1: 73% TRAINING ACCURACY / 74% VALIDATION ACCURACY\n",
      "LITTLEEYES_1_2: 66% TRAINING ACCURACY / 68% VALIDATION ACCURACY\n",
      "LITTLEEYES_1_3: 66% TRAINING ACCURACY / 67% VALIDATION ACCURACY\n",
      "LITTLEEYES_1_4: 67% TRAINING ACCURACY / 66% VALIDATION ACCURACY\n",
      "LITTLEEYES_2_0: 90% TRAINING ACCURACY / 91% VALIDATION ACCURACY\n",
      "LITTLEEYES_2_1: 88% TRAINING ACCURACY / 87% VALIDATION ACCURACY\n",
      "LITTLEEYES_2_2: 84% TRAINING ACCURACY / 85% VALIDATION ACCURACY\n",
      "LITTLEEYES_2_3: 90% TRAINING ACCURACY / 90% VALIDATION ACCURACY\n",
      "LITTLEEYES_2_4: 90% TRAINING ACCURACY / 90% VALIDATION ACCURACY\n",
      "LITTLEEYES_3_0: 93% TRAINING ACCURACY / 93% VALIDATION ACCURACY\n",
      "LITTLEEYES_3_1: 93% TRAINING ACCURACY / 92% VALIDATION ACCURACY\n",
      "LITTLEEYES_3_2: 94% TRAINING ACCURACY / 95% VALIDATION ACCURACY\n",
      "LITTLEEYES_3_3: 93% TRAINING ACCURACY / 92% VALIDATION ACCURACY\n",
      "LITTLEEYES_3_4: 94% TRAINING ACCURACY / 94% VALIDATION ACCURACY\n",
      "LITTLEEYES_4_0: 95% TRAINING ACCURACY / 95% VALIDATION ACCURACY\n",
      "LITTLEEYES_4_1: 95% TRAINING ACCURACY / 95% VALIDATION ACCURACY\n",
      "LITTLEEYES_4_2: 95% TRAINING ACCURACY / 95% VALIDATION ACCURACY\n",
      "LITTLEEYES_4_3: 95% TRAINING ACCURACY / 95% VALIDATION ACCURACY\n",
      "LITTLEEYES_4_4: 95% TRAINING ACCURACY / 96% VALIDATION ACCURACY\n",
      "LITTLEEYES_5_0: 95% TRAINING ACCURACY / 95% VALIDATION ACCURACY\n",
      "LITTLEEYES_5_1: 95% TRAINING ACCURACY / 94% VALIDATION ACCURACY\n",
      "LITTLEEYES_5_2: 94% TRAINING ACCURACY / 94% VALIDATION ACCURACY\n",
      "LITTLEEYES_5_3: 96% TRAINING ACCURACY / 95% VALIDATION ACCURACY\n",
      "LITTLEEYES_5_4: 95% TRAINING ACCURACY / 95% VALIDATION ACCURACY\n"
     ]
    }
   ],
   "source": [
    "result_list = []\n",
    "kfolder = StratifiedKFold(n_splits=n_folds, random_state=the_seed, shuffle=True)\n",
    "for hyperparameter in numpy.arange(1, hyperparameter_max+1):\n",
    "    for i, (train_index, validation_index) in enumerate(kfolder.split(train_images, train_labels)):\n",
    "        X_train, Y_train = train_images[train_index], train_labels[train_index]\n",
    "        X_val, Y_val = train_images[validation_index], train_labels[validation_index]\n",
    "\n",
    "        # NET NAME > Hyperparameter + Fold Number\n",
    "        net_name = f\"LittleEyes_{hyperparameter}_{i}\"\n",
    "        little_eyes = create_little_eyes(net_name = net_name,\n",
    "                                        hyperparameter=hyperparameter)\n",
    "        opt = optimizers.Adam(learning_rate=learning_rate)\n",
    "        little_eyes.compile(optimizer=opt,\n",
    "                    loss= keras.losses.SparseCategoricalCrossentropy(from_logits=True),\n",
    "                    metrics=[score_metric])\n",
    "\n",
    "        history = little_eyes.fit(X_train, Y_train, epochs=max_epochs, \n",
    "                                validation_data=(X_val, Y_val),\n",
    "                                verbose=verbose)\n",
    "\n",
    "        training_score = history.history[score_metric][-1]\n",
    "        validation_score = history.history[f\"val_{score_metric}\"][-1]\n",
    "        result_list.append((net_name, hyperparameter, i, training_score, validation_score, little_eyes))\n",
    "        print(f\"{net_name.upper()}: {100*training_score:.0f}% TRAINING {score_metric.upper()} / {100*validation_score:.0f}% VALIDATION {score_metric.upper()}\")\n",
    "        "
   ]
  },
  {
   "cell_type": "code",
   "execution_count": 9,
   "metadata": {},
   "outputs": [
    {
     "data": {
      "text/html": [
       "<div>\n",
       "<style scoped>\n",
       "    .dataframe tbody tr th:only-of-type {\n",
       "        vertical-align: middle;\n",
       "    }\n",
       "\n",
       "    .dataframe tbody tr th {\n",
       "        vertical-align: top;\n",
       "    }\n",
       "\n",
       "    .dataframe thead th {\n",
       "        text-align: right;\n",
       "    }\n",
       "</style>\n",
       "<table border=\"1\" class=\"dataframe\">\n",
       "  <thead>\n",
       "    <tr style=\"text-align: right;\">\n",
       "      <th></th>\n",
       "      <th>net_name</th>\n",
       "      <th>hyperparameter</th>\n",
       "      <th>kfold</th>\n",
       "      <th>accuracy</th>\n",
       "      <th>val_accuracy</th>\n",
       "      <th>little_eyes</th>\n",
       "    </tr>\n",
       "  </thead>\n",
       "  <tbody>\n",
       "    <tr>\n",
       "      <th>19</th>\n",
       "      <td>LittleEyes_4_4</td>\n",
       "      <td>4</td>\n",
       "      <td>4</td>\n",
       "      <td>0.950542</td>\n",
       "      <td>0.957333</td>\n",
       "      <td>&lt;Functional name=LittleEyes_4_4, built=True&gt;</td>\n",
       "    </tr>\n",
       "    <tr>\n",
       "      <th>24</th>\n",
       "      <td>LittleEyes_5_4</td>\n",
       "      <td>5</td>\n",
       "      <td>4</td>\n",
       "      <td>0.952729</td>\n",
       "      <td>0.954583</td>\n",
       "      <td>&lt;Functional name=LittleEyes_5_4, built=True&gt;</td>\n",
       "    </tr>\n",
       "    <tr>\n",
       "      <th>15</th>\n",
       "      <td>LittleEyes_4_0</td>\n",
       "      <td>4</td>\n",
       "      <td>0</td>\n",
       "      <td>0.953104</td>\n",
       "      <td>0.953000</td>\n",
       "      <td>&lt;Functional name=LittleEyes_4_0, built=True&gt;</td>\n",
       "    </tr>\n",
       "    <tr>\n",
       "      <th>20</th>\n",
       "      <td>LittleEyes_5_0</td>\n",
       "      <td>5</td>\n",
       "      <td>0</td>\n",
       "      <td>0.952896</td>\n",
       "      <td>0.950833</td>\n",
       "      <td>&lt;Functional name=LittleEyes_5_0, built=True&gt;</td>\n",
       "    </tr>\n",
       "    <tr>\n",
       "      <th>17</th>\n",
       "      <td>LittleEyes_4_2</td>\n",
       "      <td>4</td>\n",
       "      <td>2</td>\n",
       "      <td>0.954125</td>\n",
       "      <td>0.949500</td>\n",
       "      <td>&lt;Functional name=LittleEyes_4_2, built=True&gt;</td>\n",
       "    </tr>\n",
       "    <tr>\n",
       "      <th>23</th>\n",
       "      <td>LittleEyes_5_3</td>\n",
       "      <td>5</td>\n",
       "      <td>3</td>\n",
       "      <td>0.956521</td>\n",
       "      <td>0.947917</td>\n",
       "      <td>&lt;Functional name=LittleEyes_5_3, built=True&gt;</td>\n",
       "    </tr>\n",
       "    <tr>\n",
       "      <th>12</th>\n",
       "      <td>LittleEyes_3_2</td>\n",
       "      <td>3</td>\n",
       "      <td>2</td>\n",
       "      <td>0.943479</td>\n",
       "      <td>0.947917</td>\n",
       "      <td>&lt;Functional name=LittleEyes_3_2, built=True&gt;</td>\n",
       "    </tr>\n",
       "    <tr>\n",
       "      <th>16</th>\n",
       "      <td>LittleEyes_4_1</td>\n",
       "      <td>4</td>\n",
       "      <td>1</td>\n",
       "      <td>0.954562</td>\n",
       "      <td>0.947250</td>\n",
       "      <td>&lt;Functional name=LittleEyes_4_1, built=True&gt;</td>\n",
       "    </tr>\n",
       "    <tr>\n",
       "      <th>18</th>\n",
       "      <td>LittleEyes_4_3</td>\n",
       "      <td>4</td>\n",
       "      <td>3</td>\n",
       "      <td>0.948542</td>\n",
       "      <td>0.945833</td>\n",
       "      <td>&lt;Functional name=LittleEyes_4_3, built=True&gt;</td>\n",
       "    </tr>\n",
       "    <tr>\n",
       "      <th>21</th>\n",
       "      <td>LittleEyes_5_1</td>\n",
       "      <td>5</td>\n",
       "      <td>1</td>\n",
       "      <td>0.952542</td>\n",
       "      <td>0.945000</td>\n",
       "      <td>&lt;Functional name=LittleEyes_5_1, built=True&gt;</td>\n",
       "    </tr>\n",
       "    <tr>\n",
       "      <th>14</th>\n",
       "      <td>LittleEyes_3_4</td>\n",
       "      <td>3</td>\n",
       "      <td>4</td>\n",
       "      <td>0.943708</td>\n",
       "      <td>0.944833</td>\n",
       "      <td>&lt;Functional name=LittleEyes_3_4, built=True&gt;</td>\n",
       "    </tr>\n",
       "    <tr>\n",
       "      <th>22</th>\n",
       "      <td>LittleEyes_5_2</td>\n",
       "      <td>5</td>\n",
       "      <td>2</td>\n",
       "      <td>0.939708</td>\n",
       "      <td>0.938833</td>\n",
       "      <td>&lt;Functional name=LittleEyes_5_2, built=True&gt;</td>\n",
       "    </tr>\n",
       "    <tr>\n",
       "      <th>10</th>\n",
       "      <td>LittleEyes_3_0</td>\n",
       "      <td>3</td>\n",
       "      <td>0</td>\n",
       "      <td>0.932938</td>\n",
       "      <td>0.932167</td>\n",
       "      <td>&lt;Functional name=LittleEyes_3_0, built=True&gt;</td>\n",
       "    </tr>\n",
       "    <tr>\n",
       "      <th>11</th>\n",
       "      <td>LittleEyes_3_1</td>\n",
       "      <td>3</td>\n",
       "      <td>1</td>\n",
       "      <td>0.932021</td>\n",
       "      <td>0.923000</td>\n",
       "      <td>&lt;Functional name=LittleEyes_3_1, built=True&gt;</td>\n",
       "    </tr>\n",
       "    <tr>\n",
       "      <th>13</th>\n",
       "      <td>LittleEyes_3_3</td>\n",
       "      <td>3</td>\n",
       "      <td>3</td>\n",
       "      <td>0.925604</td>\n",
       "      <td>0.920750</td>\n",
       "      <td>&lt;Functional name=LittleEyes_3_3, built=True&gt;</td>\n",
       "    </tr>\n",
       "    <tr>\n",
       "      <th>5</th>\n",
       "      <td>LittleEyes_2_0</td>\n",
       "      <td>2</td>\n",
       "      <td>0</td>\n",
       "      <td>0.896271</td>\n",
       "      <td>0.909000</td>\n",
       "      <td>&lt;Functional name=LittleEyes_2_0, built=True&gt;</td>\n",
       "    </tr>\n",
       "    <tr>\n",
       "      <th>8</th>\n",
       "      <td>LittleEyes_2_3</td>\n",
       "      <td>2</td>\n",
       "      <td>3</td>\n",
       "      <td>0.900771</td>\n",
       "      <td>0.898917</td>\n",
       "      <td>&lt;Functional name=LittleEyes_2_3, built=True&gt;</td>\n",
       "    </tr>\n",
       "    <tr>\n",
       "      <th>9</th>\n",
       "      <td>LittleEyes_2_4</td>\n",
       "      <td>2</td>\n",
       "      <td>4</td>\n",
       "      <td>0.901354</td>\n",
       "      <td>0.896250</td>\n",
       "      <td>&lt;Functional name=LittleEyes_2_4, built=True&gt;</td>\n",
       "    </tr>\n",
       "    <tr>\n",
       "      <th>6</th>\n",
       "      <td>LittleEyes_2_1</td>\n",
       "      <td>2</td>\n",
       "      <td>1</td>\n",
       "      <td>0.877396</td>\n",
       "      <td>0.865333</td>\n",
       "      <td>&lt;Functional name=LittleEyes_2_1, built=True&gt;</td>\n",
       "    </tr>\n",
       "    <tr>\n",
       "      <th>7</th>\n",
       "      <td>LittleEyes_2_2</td>\n",
       "      <td>2</td>\n",
       "      <td>2</td>\n",
       "      <td>0.843854</td>\n",
       "      <td>0.848167</td>\n",
       "      <td>&lt;Functional name=LittleEyes_2_2, built=True&gt;</td>\n",
       "    </tr>\n",
       "    <tr>\n",
       "      <th>1</th>\n",
       "      <td>LittleEyes_1_1</td>\n",
       "      <td>1</td>\n",
       "      <td>1</td>\n",
       "      <td>0.730792</td>\n",
       "      <td>0.735583</td>\n",
       "      <td>&lt;Functional name=LittleEyes_1_1, built=True&gt;</td>\n",
       "    </tr>\n",
       "    <tr>\n",
       "      <th>2</th>\n",
       "      <td>LittleEyes_1_2</td>\n",
       "      <td>1</td>\n",
       "      <td>2</td>\n",
       "      <td>0.659792</td>\n",
       "      <td>0.677333</td>\n",
       "      <td>&lt;Functional name=LittleEyes_1_2, built=True&gt;</td>\n",
       "    </tr>\n",
       "    <tr>\n",
       "      <th>3</th>\n",
       "      <td>LittleEyes_1_3</td>\n",
       "      <td>1</td>\n",
       "      <td>3</td>\n",
       "      <td>0.656125</td>\n",
       "      <td>0.669917</td>\n",
       "      <td>&lt;Functional name=LittleEyes_1_3, built=True&gt;</td>\n",
       "    </tr>\n",
       "    <tr>\n",
       "      <th>4</th>\n",
       "      <td>LittleEyes_1_4</td>\n",
       "      <td>1</td>\n",
       "      <td>4</td>\n",
       "      <td>0.674500</td>\n",
       "      <td>0.660167</td>\n",
       "      <td>&lt;Functional name=LittleEyes_1_4, built=True&gt;</td>\n",
       "    </tr>\n",
       "    <tr>\n",
       "      <th>0</th>\n",
       "      <td>LittleEyes_1_0</td>\n",
       "      <td>1</td>\n",
       "      <td>0</td>\n",
       "      <td>0.663521</td>\n",
       "      <td>0.649417</td>\n",
       "      <td>&lt;Functional name=LittleEyes_1_0, built=True&gt;</td>\n",
       "    </tr>\n",
       "  </tbody>\n",
       "</table>\n",
       "</div>"
      ],
      "text/plain": [
       "          net_name  hyperparameter  kfold  accuracy  val_accuracy  \\\n",
       "19  LittleEyes_4_4               4      4  0.950542      0.957333   \n",
       "24  LittleEyes_5_4               5      4  0.952729      0.954583   \n",
       "15  LittleEyes_4_0               4      0  0.953104      0.953000   \n",
       "20  LittleEyes_5_0               5      0  0.952896      0.950833   \n",
       "17  LittleEyes_4_2               4      2  0.954125      0.949500   \n",
       "23  LittleEyes_5_3               5      3  0.956521      0.947917   \n",
       "12  LittleEyes_3_2               3      2  0.943479      0.947917   \n",
       "16  LittleEyes_4_1               4      1  0.954562      0.947250   \n",
       "18  LittleEyes_4_3               4      3  0.948542      0.945833   \n",
       "21  LittleEyes_5_1               5      1  0.952542      0.945000   \n",
       "14  LittleEyes_3_4               3      4  0.943708      0.944833   \n",
       "22  LittleEyes_5_2               5      2  0.939708      0.938833   \n",
       "10  LittleEyes_3_0               3      0  0.932938      0.932167   \n",
       "11  LittleEyes_3_1               3      1  0.932021      0.923000   \n",
       "13  LittleEyes_3_3               3      3  0.925604      0.920750   \n",
       "5   LittleEyes_2_0               2      0  0.896271      0.909000   \n",
       "8   LittleEyes_2_3               2      3  0.900771      0.898917   \n",
       "9   LittleEyes_2_4               2      4  0.901354      0.896250   \n",
       "6   LittleEyes_2_1               2      1  0.877396      0.865333   \n",
       "7   LittleEyes_2_2               2      2  0.843854      0.848167   \n",
       "1   LittleEyes_1_1               1      1  0.730792      0.735583   \n",
       "2   LittleEyes_1_2               1      2  0.659792      0.677333   \n",
       "3   LittleEyes_1_3               1      3  0.656125      0.669917   \n",
       "4   LittleEyes_1_4               1      4  0.674500      0.660167   \n",
       "0   LittleEyes_1_0               1      0  0.663521      0.649417   \n",
       "\n",
       "                                     little_eyes  \n",
       "19  <Functional name=LittleEyes_4_4, built=True>  \n",
       "24  <Functional name=LittleEyes_5_4, built=True>  \n",
       "15  <Functional name=LittleEyes_4_0, built=True>  \n",
       "20  <Functional name=LittleEyes_5_0, built=True>  \n",
       "17  <Functional name=LittleEyes_4_2, built=True>  \n",
       "23  <Functional name=LittleEyes_5_3, built=True>  \n",
       "12  <Functional name=LittleEyes_3_2, built=True>  \n",
       "16  <Functional name=LittleEyes_4_1, built=True>  \n",
       "18  <Functional name=LittleEyes_4_3, built=True>  \n",
       "21  <Functional name=LittleEyes_5_1, built=True>  \n",
       "14  <Functional name=LittleEyes_3_4, built=True>  \n",
       "22  <Functional name=LittleEyes_5_2, built=True>  \n",
       "10  <Functional name=LittleEyes_3_0, built=True>  \n",
       "11  <Functional name=LittleEyes_3_1, built=True>  \n",
       "13  <Functional name=LittleEyes_3_3, built=True>  \n",
       "5   <Functional name=LittleEyes_2_0, built=True>  \n",
       "8   <Functional name=LittleEyes_2_3, built=True>  \n",
       "9   <Functional name=LittleEyes_2_4, built=True>  \n",
       "6   <Functional name=LittleEyes_2_1, built=True>  \n",
       "7   <Functional name=LittleEyes_2_2, built=True>  \n",
       "1   <Functional name=LittleEyes_1_1, built=True>  \n",
       "2   <Functional name=LittleEyes_1_2, built=True>  \n",
       "3   <Functional name=LittleEyes_1_3, built=True>  \n",
       "4   <Functional name=LittleEyes_1_4, built=True>  \n",
       "0   <Functional name=LittleEyes_1_0, built=True>  "
      ]
     },
     "execution_count": 9,
     "metadata": {},
     "output_type": "execute_result"
    }
   ],
   "source": [
    "results = pandas.DataFrame.from_records(result_list)\n",
    "results.columns = [\"net_name\", \"hyperparameter\", \"kfold\", score_metric, f\"val_{score_metric}\", \"little_eyes\"]\n",
    "results.sort_values(\"val_accuracy\", ascending=False)"
   ]
  },
  {
   "cell_type": "code",
   "execution_count": 10,
   "metadata": {},
   "outputs": [
    {
     "data": {
      "image/png": "[encoded data removed]",
      "text/plain": [
       "<Figure size 800x450 with 1 Axes>"
      ]
     },
     "metadata": {},
     "output_type": "display_data"
    }
   ],
   "source": [
    "fig = pyplot.figure(figsize=(8, 4.5))\n",
    "ax = fig.add_subplot(111)\n",
    "boxplot(results, x=\"hyperparameter\", y=\"accuracy\", ax=ax)\n",
    "ax.grid()"
   ]
  },
  {
   "cell_type": "code",
   "execution_count": 11,
   "metadata": {},
   "outputs": [
    {
     "data": {
      "text/plain": [
       "<Functional name=LittleEyes_4_4, built=True>"
      ]
     },
     "execution_count": 11,
     "metadata": {},
     "output_type": "execute_result"
    }
   ],
   "source": [
    "little_eyes = results.sort_values('val_accuracy', ascending=False).head(1)['little_eyes'].values[0]\n",
    "little_eyes"
   ]
  },
  {
   "cell_type": "code",
   "execution_count": 12,
   "metadata": {},
   "outputs": [
    {
     "name": "stdout",
     "output_type": "stream",
     "text": [
      "\u001b[1m313/313\u001b[0m \u001b[32m━━━━━━━━━━━━━━━━━━━━\u001b[0m\u001b[37m\u001b[0m \u001b[1m1s\u001b[0m 2ms/step\n"
     ]
    }
   ],
   "source": [
    "Y_test = little_eyes.predict(validation_images)"
   ]
  },
  {
   "cell_type": "code",
   "execution_count": 13,
   "metadata": {},
   "outputs": [
    {
     "data": {
      "text/plain": [
       "array([7, 2, 1, ..., 4, 5, 6], dtype=int64)"
      ]
     },
     "execution_count": 13,
     "metadata": {},
     "output_type": "execute_result"
    }
   ],
   "source": [
    "Y_predicted = numpy.argmax(Y_test, axis=1)\n",
    "Y_predicted"
   ]
  },
  {
   "cell_type": "code",
   "execution_count": 14,
   "metadata": {},
   "outputs": [
    {
     "data": {
      "text/plain": [
       "array([  33,   77,   97,  149,  175,  184,  242,  247,  257,  282,  307,\n",
       "        321,  324,  326,  333,  362,  380,  381,  420,  449,  450,  468,\n",
       "        516,  527,  550,  551,  571,  582,  611,  619,  646,  659,  684,\n",
       "        717,  723,  726,  740,  882,  883,  898,  926,  932,  936,  938,\n",
       "        947,  950,  956,  957,  969,  982, 1026, 1032, 1039, 1068, 1114,\n",
       "       1119, 1124, 1128, 1156, 1173, 1181, 1191, 1194, 1204, 1226, 1232,\n",
       "       1239, 1247, 1256, 1260, 1283, 1290, 1299, 1326, 1328, 1337, 1365,\n",
       "       1402, 1436, 1459, 1463, 1500, 1522, 1527, 1553, 1556, 1581, 1618,\n",
       "       1621, 1641, 1678, 1681, 1682, 1696, 1709, 1716, 1718, 1721, 1722,\n",
       "       1727, 1751, 1754, 1782, 1790, 1816, 1847, 1878, 1930, 1938, 1940,\n",
       "       1941, 1987, 2016, 2018, 2035, 2040, 2043, 2063, 2070, 2090, 2105,\n",
       "       2109, 2130, 2145, 2153, 2182, 2185, 2189, 2198, 2225, 2280, 2293,\n",
       "       2298, 2308, 2318, 2358, 2370, 2380, 2394, 2395, 2405, 2406, 2414,\n",
       "       2447, 2454, 2455, 2462, 2488, 2534, 2539, 2542, 2582, 2597, 2607,\n",
       "       2610, 2617, 2618, 2639, 2649, 2654, 2695, 2715, 2730, 2743, 2770,\n",
       "       2771, 2820, 2836, 2842, 2879, 2907, 2917, 2921, 2927, 2939, 2952,\n",
       "       2959, 2990, 3004, 3012, 3059, 3062, 3073, 3129, 3132, 3136, 3166,\n",
       "       3202, 3206, 3225, 3236, 3250, 3289, 3316, 3319, 3329, 3347, 3384,\n",
       "       3392, 3441, 3456, 3475, 3490, 3503, 3520, 3525, 3558, 3567, 3573,\n",
       "       3597, 3629, 3662, 3716, 3718, 3751, 3755, 3762, 3767, 3776, 3778,\n",
       "       3780, 3796, 3808, 3817, 3818, 3838, 3848, 3906, 3942, 3951, 3954,\n",
       "       3971, 3976, 3995, 3997, 4027, 4059, 4063, 4065, 4078, 4163, 4165,\n",
       "       4176, 4205, 4212, 4224, 4238, 4248, 4265, 4272, 4289, 4306, 4317,\n",
       "       4384, 4403, 4465, 4477, 4498, 4507, 4521, 4575, 4601, 4615, 4639,\n",
       "       4657, 4723, 4740, 4761, 4808, 4815, 4816, 4823, 4837, 4838, 4860,\n",
       "       4879, 4886, 4956, 4966, 4978, 5046, 5067, 5068, 5086, 5140, 5278,\n",
       "       5288, 5298, 5394, 5450, 5457, 5653, 5678, 5686, 5709, 5728, 5734,\n",
       "       5841, 5997, 6015, 6026, 6065, 6081, 6091, 6101, 6109, 6112, 6157,\n",
       "       6161, 6166, 6172, 6173, 6400, 6505, 6532, 6538, 6543, 6553, 6555,\n",
       "       6559, 6560, 6570, 6576, 6590, 6597, 6603, 6621, 6625, 6631, 6651,\n",
       "       6692, 6737, 6755, 6768, 6780, 6783, 6796, 6954, 7070, 7094, 7095,\n",
       "       7121, 7130, 7132, 7216, 7235, 7410, 7432, 7447, 7459, 7511, 7580,\n",
       "       7678, 7821, 7849, 7857, 7899, 7916, 8047, 8059, 8061, 8181, 8182,\n",
       "       8228, 8246, 8254, 8255, 8259, 8277, 8278, 8290, 8296, 8308, 8325,\n",
       "       8375, 8382, 8408, 8431, 8504, 8509, 8527, 9009, 9016, 9019, 9024,\n",
       "       9025, 9028, 9036, 9051, 9255, 9446, 9456, 9594, 9620, 9634, 9638,\n",
       "       9643, 9679, 9692, 9693, 9700, 9716, 9729, 9735, 9745, 9754, 9770,\n",
       "       9839, 9856, 9891, 9905, 9922, 9980], dtype=int64)"
      ]
     },
     "execution_count": 14,
     "metadata": {},
     "output_type": "execute_result"
    }
   ],
   "source": [
    "# find where the predicted labels are different from the true labels\n",
    "wrong_index = numpy.where(Y_predicted != validation_labels)[0]\n",
    "wrong_index"
   ]
  },
  {
   "cell_type": "code",
   "execution_count": 19,
   "metadata": {},
   "outputs": [
    {
     "data": {
      "text/plain": [
       "413"
      ]
     },
     "execution_count": 19,
     "metadata": {},
     "output_type": "execute_result"
    }
   ],
   "source": [
    "wrong_index.shape[0]"
   ]
  },
  {
   "cell_type": "code",
   "execution_count": 29,
   "metadata": {},
   "outputs": [
    {
     "name": "stdout",
     "output_type": "stream",
     "text": [
      "TRUE NUMBER 7 >> PREDICTED NUMBER 9\n"
     ]
    },
    {
     "data": {
      "image/png": "[encoded data removed]",
      "text/plain": [
       "<Figure size 400x400 with 1 Axes>"
      ]
     },
     "metadata": {},
     "output_type": "display_data"
    }
   ],
   "source": [
    "# TABAJARA VALIDATOR\n",
    "image_id = 175\n",
    "print(f\"TRUE NUMBER {validation_labels[image_id]} >> PREDICTED NUMBER {Y_predicted[image_id]}\")\n",
    "# Y_test[image_id, :]\n",
    "fig = pyplot.figure(figsize=(4, 4))\n",
    "ax = fig.add_subplot(111)\n",
    "_ = pyplot.imshow(validation_images[image_id], cmap=\"Greens_r\")"
   ]
  },
  {
   "cell_type": "code",
   "execution_count": 16,
   "metadata": {},
   "outputs": [
    {
     "data": {
      "text/plain": [
       "0.9587"
      ]
     },
     "execution_count": 16,
     "metadata": {},
     "output_type": "execute_result"
    }
   ],
   "source": [
    "accuracy_score(validation_labels, Y_predicted)"
   ]
  },
  {
   "cell_type": "code",
   "execution_count": null,
   "metadata": {},
   "outputs": [],
   "source": []
  }
 ],
 "metadata": {
  "kernelspec": {
   "display_name": "cv",
   "language": "python",
   "name": "python3"
  },
  "language_info": {
   "codemirror_mode": {
    "name": "ipython",
    "version": 3
   },
   "file_extension": ".py",
   "mimetype": "text/x-python",
   "name": "python",
   "nbconvert_exporter": "python",
   "pygments_lexer": "ipython3",
   "version": "3.12.4"
  },
  "orig_nbformat": 4
 },
 "nbformat": 4,
 "nbformat_minor": 2
}
